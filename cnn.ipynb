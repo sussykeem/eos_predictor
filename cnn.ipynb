{
  "cells": [
    {
      "cell_type": "code",
      "execution_count": 1,
      "metadata": {
        "colab": {
          "base_uri": "https://localhost:8080/"
        },
        "id": "1PrqCQDDqah2",
        "outputId": "7401d3ff-3855-4688-e17b-bdd59a258066"
      },
      "outputs": [
        {
          "name": "stdout",
          "output_type": "stream",
          "text": [
            "Requirement already satisfied: rdkit in c:\\users\\karim\\anaconda3\\envs\\eos\\lib\\site-packages (2024.9.5)\n",
            "Requirement already satisfied: numpy in c:\\users\\karim\\anaconda3\\envs\\eos\\lib\\site-packages (from rdkit) (1.26.4)\n",
            "Requirement already satisfied: Pillow in c:\\users\\karim\\anaconda3\\envs\\eos\\lib\\site-packages (from rdkit) (11.1.0)\n"
          ]
        }
      ],
      "source": [
        "!pip install rdkit"
      ]
    },
    {
      "cell_type": "code",
      "execution_count": 2,
      "metadata": {
        "id": "sAmXUfIsqIXZ"
      },
      "outputs": [],
      "source": [
        "import numpy as np\n",
        "import pandas as pd\n",
        "import matplotlib.pyplot as plt\n",
        "from rdkit import Chem\n",
        "from rdkit.Chem import Draw\n",
        "\n",
        "import torch\n",
        "import torch.nn as nn\n",
        "import torch.optim as optim\n",
        "import torch.nn.functional as F\n",
        "import torchvision.transforms as transforms\n",
        "from torch.utils.data import Dataset, DataLoader\n",
        "from sklearn.preprocessing import StandardScaler"
      ]
    },
    {
      "cell_type": "code",
      "execution_count": 3,
      "metadata": {},
      "outputs": [
        {
          "name": "stdout",
          "output_type": "stream",
          "text": [
            "PyTorch version: 2.5.1\n",
            "CUDA available: True\n",
            "CUDA device count: 1\n",
            "GPU Name: NVIDIA GeForce RTX 4060 Ti\n",
            "Current CUDA device: 0\n"
          ]
        }
      ],
      "source": [
        "import torch\n",
        "print(\"PyTorch version:\", torch.__version__)\n",
        "print(\"CUDA available:\", torch.cuda.is_available())\n",
        "print(\"CUDA device count:\", torch.cuda.device_count())\n",
        "if torch.cuda.is_available():\n",
        "    print(\"GPU Name:\", torch.cuda.get_device_name(0))\n",
        "    print(\"Current CUDA device:\", torch.cuda.current_device())\n"
      ]
    },
    {
      "cell_type": "code",
      "execution_count": 4,
      "metadata": {
        "colab": {
          "base_uri": "https://localhost:8080/"
        },
        "id": "CkhATIO1tMb6",
        "outputId": "7c0c1e27-aaa6-4f2d-b97e-a8f00d1d07e3"
      },
      "outputs": [
        {
          "name": "stdout",
          "output_type": "stream",
          "text": [
            "cuda:0\n"
          ]
        }
      ],
      "source": [
        "device = torch.device(\"cuda:0\" if torch.cuda.is_available() else \"cpu\")\n",
        "print(device)"
      ]
    },
    {
      "cell_type": "code",
      "execution_count": 5,
      "metadata": {
        "id": "xieT3LVGqUg5"
      },
      "outputs": [],
      "source": [
        "train_url = 'https://raw.githubusercontent.com/sussykeem/eos_predictor/refs/heads/main/eos_dataset/train_data.csv'\n",
        "test_url = 'https://raw.githubusercontent.com/sussykeem/eos_predictor/refs/heads/main/eos_dataset/test_data.csv'"
      ]
    },
    {
      "cell_type": "code",
      "execution_count": 6,
      "metadata": {
        "colab": {
          "base_uri": "https://localhost:8080/",
          "height": 317
        },
        "id": "S55-Zbk5p4jQ",
        "outputId": "0ce2b980-ef90-4aee-cc2c-368036fe8bd7"
      },
      "outputs": [
        {
          "data": {
            "image/jpeg": "[encoded data removed]",
            "image/png": "[encoded data removed]",
            "text/plain": [
              "<PIL.PngImagePlugin.PngImageFile image mode=RGB size=300x300>"
            ]
          },
          "execution_count": 6,
          "metadata": {},
          "output_type": "execute_result"
        }
      ],
      "source": [
        "class MoleculeVisualizer():\n",
        "    def visualize_molecule_2D(self,smiles):\n",
        "        \"\"\"\n",
        "        Generates a 2D image of the molecule from its SMILES representation.\n",
        "        \"\"\"\n",
        "        mol = Chem.MolFromSmiles(smiles)\n",
        "        if mol is None:\n",
        "            print(\"Invalid SMILES string.\")\n",
        "            return\n",
        "\n",
        "        img = Draw.MolToImage(mol, size=(300, 300))\n",
        "\n",
        "        return img\n",
        "\n",
        "visualizer = MoleculeVisualizer()\n",
        "visualizer.visualize_molecule_2D('CCO')"
      ]
    },
    {
      "cell_type": "code",
      "execution_count": 7,
      "metadata": {
        "colab": {
          "base_uri": "https://localhost:8080/"
        },
        "id": "uOIzx9CHqi6a",
        "outputId": "3d3747a3-5dbe-4239-9c4a-fb02198591db"
      },
      "outputs": [
        {
          "name": "stdout",
          "output_type": "stream",
          "text": [
            "(165, 15) (165, 2) (55, 15) (55, 2)\n"
          ]
        }
      ],
      "source": [
        "train_data = pd.read_csv(train_url)\n",
        "test_data = pd.read_csv(test_url)\n",
        "\n",
        "X_cols = ['sci_name','name','cid','smile','Molecular Weight','LogP','TPSA','Rotatable Bonds','H Bond Donors','H Bond Acceptors','Aromatic Rings','Num Rings','Atom Count','coulomb_matrix','embeddings']\n",
        "y_cols = ['a', 'b']\n",
        "\n",
        "X_train = train_data[X_cols]\n",
        "y_train = train_data[y_cols]\n",
        "X_test = test_data[X_cols]\n",
        "y_test = test_data[y_cols]\n",
        "\n",
        "print(X_train.shape, y_train.shape, X_test.shape, y_test.shape)"
      ]
    },
    {
      "cell_type": "code",
      "execution_count": 8,
      "metadata": {
        "colab": {
          "base_uri": "https://localhost:8080/"
        },
        "id": "p-BG6BLiHYch",
        "outputId": "073e0531-283e-4003-b614-707d64c6350d"
      },
      "outputs": [
        {
          "name": "stdout",
          "output_type": "stream",
          "text": [
            "159.90314965096417\n"
          ]
        }
      ],
      "source": [
        "a_mean = y_train['a'].mean()\n",
        "b_mean = y_train['b'].mean()\n",
        "\n",
        "diff = a_mean / b_mean\n",
        "print(diff)"
      ]
    },
    {
      "cell_type": "code",
      "execution_count": 9,
      "metadata": {
        "colab": {
          "base_uri": "https://localhost:8080/"
        },
        "id": "5bRekeJ2q9T0",
        "outputId": "cff1b926-b36d-46a1-e0a8-ec59373d2d8c"
      },
      "outputs": [
        {
          "name": "stderr",
          "output_type": "stream",
          "text": [
            "[17:43:47] WARNING: not removing hydrogen atom without neighbors\n"
          ]
        },
        {
          "name": "stdout",
          "output_type": "stream",
          "text": [
            "(165, 300, 300, 3) (55, 300, 300, 3)\n"
          ]
        }
      ],
      "source": [
        "train_imgs = []\n",
        "test_imgs = []\n",
        "\n",
        "for smile in X_train['smile']:\n",
        "    img = MoleculeVisualizer().visualize_molecule_2D(smile)\n",
        "    train_imgs.append(np.array(img, dtype=np.float32))\n",
        "\n",
        "for smile in X_test['smile']:\n",
        "    img = MoleculeVisualizer().visualize_molecule_2D(smile)\n",
        "    test_imgs.append(np.array(img, dtype=np.float32))\n",
        "\n",
        "train_imgs = np.array(train_imgs)\n",
        "test_imgs = np.array(test_imgs)\n",
        "\n",
        "print(train_imgs.shape, test_imgs.shape)"
      ]
    },
    {
      "cell_type": "code",
      "execution_count": 10,
      "metadata": {
        "id": "XzDal_4psKiB"
      },
      "outputs": [],
      "source": [
        "class EOSDataset(Dataset):\n",
        "\n",
        "  def __init__(self, imgs, y, scale=True):\n",
        "    self.imgs = imgs\n",
        "    self.y = y.values.astype(np.float32)\n",
        "    self.transform = transforms.Compose([\n",
        "      transforms.ToTensor(),\n",
        "      transforms.Normalize((0.5, 0.5, 0.5), (0.5, 0.5, 0.5))\n",
        "    ])\n",
        "\n",
        "    # Separate scalers for a and b\n",
        "    self.scaler_a = StandardScaler()\n",
        "    self.scaler_b = StandardScaler()\n",
        "\n",
        "    # Fit scalers on the respective columns\n",
        "    if scale:\n",
        "      self.y[:, 0] = self.scaler_a.fit_transform(self.y[:, 0].reshape(-1, 1)).reshape(-1)\n",
        "      self.y[:, 1] = self.scaler_b.fit_transform(self.y[:, 1].reshape(-1, 1)).reshape(-1)\n",
        "\n",
        "\n",
        "  def __len__(self):\n",
        "    return len(self.imgs)\n",
        "\n",
        "  def __getitem__(self, idx):\n",
        "    img = self.imgs[idx]\n",
        "    label = self.y[idx]\n",
        "\n",
        "    img = self.transform(img)\n",
        "\n",
        "    return img, label\n",
        "\n",
        "  def transform(self, img):\n",
        "    return self.transform(img)\n",
        "\n"
      ]
    },
    {
      "cell_type": "code",
      "execution_count": 89,
      "metadata": {
        "id": "pcNW3gGirC8v"
      },
      "outputs": [],
      "source": [
        "class CNN(nn.Module):\n",
        "\n",
        "  def __init__(self, train_dataset, test_dataset):\n",
        "    super(CNN, self).__init__()\n",
        "\n",
        "    self.cnn_pipeline = nn.Sequential(\n",
        "        nn.Conv2d(3, 32, kernel_size=7, padding=1),\n",
        "        nn.BatchNorm2d(32, affine=False),\n",
        "        nn.ReLU(),\n",
        "        nn.MaxPool2d(kernel_size=2, stride=2),\n",
        "        nn.Conv2d(32, 64, kernel_size=5, padding=2),\n",
        "        nn.BatchNorm2d(64, affine=False),\n",
        "        nn.ReLU(),\n",
        "        nn.MaxPool2d(kernel_size=2, stride=2),\n",
        "        nn.Conv2d(64, 128, kernel_size=3, padding=1),\n",
        "        nn.BatchNorm2d(128, affine=False),\n",
        "        nn.ReLU()\n",
        "    )\n",
        "\n",
        "    self.fc_pipeline = nn.Sequential(\n",
        "        nn.Linear(128 * 74 * 74, 128),\n",
        "        nn.ReLU(),\n",
        "        nn.Dropout(0.1),\n",
        "        nn.Linear(128, 64),\n",
        "        nn.ReLU(),\n",
        "    )\n",
        "\n",
        "    self.output_layer = nn.Linear(64, 2)\n",
        "\n",
        "    self.train_dataset = train_dataset\n",
        "    self.test_dataset = test_dataset\n",
        "\n",
        "\n",
        "    self.train_loader = DataLoader(self.train_dataset, batch_size=32, shuffle=True)\n",
        "    self.test_loader = DataLoader(self.test_dataset, batch_size=32, shuffle=False)\n",
        "\n",
        "    self._initialize_weights()\n",
        "\n",
        "  def _initialize_weights(self):\n",
        "        for m in self.modules():\n",
        "            if isinstance(m, nn.Conv2d) or isinstance(m, nn.Linear):\n",
        "                nn.init.xavier_uniform_(m.weight)\n",
        "                if m.bias is not None:\n",
        "                    nn.init.zeros_(m.bias)\n",
        "\n",
        "  # For training model on a and b and getting embedded vector for PKAN\n",
        "  def forward(self, x, predict=False):\n",
        "    x = self.cnn_pipeline(x)\n",
        "    x = torch.flatten(x, 1)\n",
        "    x = self.fc_pipeline(x)\n",
        "    if predict:\n",
        "        x = self.output_layer(x)\n",
        "    return x\n",
        "\n",
        "  def unscale_predict(self, x, train=True):\n",
        "    x = x.detach().cpu().numpy()\n",
        "    if train:\n",
        "      scaler_a = self.train_dataset.scaler_a\n",
        "      scaler_b = self.train_dataset.scaler_b\n",
        "    else:\n",
        "      scaler_a = self.test_dataset.scaler_a\n",
        "      scaler_b = self.test_dataset.scaler_b\n",
        "\n",
        "    x[:, 0] = scaler_a.inverse_transform(x[:, 0].reshape(-1, 1)).reshape(-1)\n",
        "    x[:, 1] = scaler_b.inverse_transform(x[:, 1].reshape(-1, 1)).reshape(-1)\n",
        "    return x\n",
        "\n",
        "  def weighted_loss(self, outputs, labels):\n",
        "    criterion = nn.SmoothL1Loss()\n",
        "    loss = criterion(outputs, labels)\n",
        "    weight = torch.tensor([1.0, 80], device=device)  # Adjust if needed\n",
        "    return (loss * weight).mean()\n",
        "\n",
        "  def train(self, epochs, learning_rate, step_size, gamma):\n",
        "    optimizer = optim.Adam(self.parameters(), lr=learning_rate)\n",
        "    scheduler = optim.lr_scheduler.StepLR(optimizer, step_size=step_size, gamma=gamma)\n",
        "\n",
        "    self.to(device)  # Move the model to the device (GPU if available)\n",
        "\n",
        "    loss_history = []\n",
        "\n",
        "    for epoch in range(epochs):\n",
        "        running_loss = 0.0\n",
        "        for i, data in enumerate(self.train_loader, 0):\n",
        "            inputs, labels = data  # Get the inputs and labels from the data loader\n",
        "            inputs, labels = inputs.to(device), labels.to(device)  # Move data to device\n",
        "\n",
        "            optimizer.zero_grad()  # Zero the parameter gradients\n",
        "            outputs = self(inputs, predict=True)  # Forward pass\n",
        "            loss = self.weighted_loss(outputs, labels)  # Calculate the loss\n",
        "            loss_history.append(loss.item())\n",
        "            loss.backward()  # Backpropagation\n",
        "            optimizer.step()  # Update the model's parameters\n",
        "\n",
        "            running_loss += loss.item()  # Accumulate the loss for the epoch\n",
        "\n",
        "        scheduler.step()\n",
        "\n",
        "        # Print the average loss for the epoch\n",
        "        print(f\"Epoch [{epoch + 1}/{epochs}] Loss: {running_loss / len(self.train_loader):.4f} | LR: {scheduler.get_last_lr()[0]:.6f}\")\n",
        "\n",
        "    plt.figure()\n",
        "    plt.plot(loss_history)\n",
        "    plt.xlabel('Iterations')\n",
        "    plt.ylabel('Loss')\n",
        "    plt.title('Training Loss')\n",
        "    plt.show()\n",
        "\n",
        "    print(\"Training finished!\")\n",
        "\n",
        "    self.to(device)\n",
        "\n",
        "  def validate(self):\n",
        "      self.eval()  # Set the model to evaluation mode\n",
        "      total_loss = 0.0\n",
        "      criterion = nn.SmoothL1Loss()\n",
        "      all_outputs = []\n",
        "      all_labels = []\n",
        "\n",
        "      with torch.no_grad():  # Disable gradient computation\n",
        "          for data in self.test_loader:\n",
        "              inputs, labels = data\n",
        "              inputs, labels = inputs.to(device), labels.to(device)\n",
        "\n",
        "              outputs = self(inputs, predict=True)\n",
        "              loss = self.weighted_loss(outputs, labels)\n",
        "              total_loss += loss.item()\n",
        "\n",
        "              all_outputs.append(outputs.cpu().numpy())\n",
        "              all_labels.append(labels.cpu().numpy())\n",
        "\n",
        "      avg_loss = total_loss / len(self.test_loader)\n",
        "      print(f\"Validation Loss: {avg_loss:.4f}\")\n",
        "\n",
        "      # Convert lists to numpy arrays for better analysis\n",
        "      all_outputs = np.concatenate(all_outputs, axis=0)\n",
        "      all_labels = np.concatenate(all_labels, axis=0)\n",
        "\n",
        "      # Unscale predictions\n",
        "      unscaled_outputs = self.unscale_predict(torch.tensor(all_outputs), train=False)\n",
        "      unscaled_labels = self.unscale_predict(torch.tensor(all_labels), train=False)\n",
        "\n",
        "      # Compute evaluation metrics\n",
        "      mae = np.mean(np.abs(unscaled_outputs - unscaled_labels), axis=0)\n",
        "      mse = np.mean((unscaled_outputs - unscaled_labels) ** 2, axis=0)\n",
        "\n",
        "      print(f\"Mean Absolute Error (MAE): a={mae[0]:.4f}, b={mae[1]:.4f}\")\n",
        "      print(f\"Mean Squared Error (MSE): a={mse[0]:.4f}, b={mse[1]:.4f}\")\n",
        "\n",
        "      self.train()  # Switch back to training mode\n",
        "\n"
      ]
    },
    {
      "cell_type": "code",
      "execution_count": 85,
      "metadata": {
        "id": "gME4l7FFtizn"
      },
      "outputs": [],
      "source": [
        "train_dataset = EOSDataset(train_imgs, y_train, True)\n",
        "test_dataset = EOSDataset(test_imgs, y_test, True)"
      ]
    },
    {
      "cell_type": "code",
      "execution_count": null,
      "metadata": {
        "colab": {
          "base_uri": "https://localhost:8080/"
        },
        "id": "AEO60xCvt0Zh",
        "outputId": "e9087ed6-6ecf-4619-d582-a2c046a5d53d"
      },
      "outputs": [
        {
          "name": "stdout",
          "output_type": "stream",
          "text": [
            "Epoch [1/100] Loss: 389.0468 | LR: 0.000100\n",
            "Epoch [2/100] Loss: 182.4791 | LR: 0.000100\n",
            "Epoch [3/100] Loss: 183.0852 | LR: 0.000100\n",
            "Epoch [4/100] Loss: 156.8292 | LR: 0.000100\n",
            "Epoch [5/100] Loss: 151.4753 | LR: 0.000100\n",
            "Epoch [6/100] Loss: 104.4159 | LR: 0.000100\n",
            "Epoch [7/100] Loss: 100.8036 | LR: 0.000100\n",
            "Epoch [8/100] Loss: 88.6053 | LR: 0.000100\n",
            "Epoch [9/100] Loss: 72.0994 | LR: 0.000100\n",
            "Epoch [10/100] Loss: 68.9838 | LR: 0.000050\n",
            "Epoch [11/100] Loss: 48.8931 | LR: 0.000050\n",
            "Epoch [12/100] Loss: 41.5138 | LR: 0.000050\n",
            "Epoch [13/100] Loss: 36.0084 | LR: 0.000050\n",
            "Epoch [14/100] Loss: 33.2891 | LR: 0.000050\n",
            "Epoch [15/100] Loss: 25.1009 | LR: 0.000050\n",
            "Epoch [16/100] Loss: 24.5772 | LR: 0.000050\n",
            "Epoch [17/100] Loss: 28.7469 | LR: 0.000050\n",
            "Epoch [18/100] Loss: 24.0000 | LR: 0.000050\n",
            "Epoch [19/100] Loss: 18.9668 | LR: 0.000050\n",
            "Epoch [20/100] Loss: 14.5225 | LR: 0.000025\n",
            "Epoch [21/100] Loss: 13.0075 | LR: 0.000025\n",
            "Epoch [22/100] Loss: 11.3119 | LR: 0.000025\n",
            "Epoch [23/100] Loss: 11.5013 | LR: 0.000025\n",
            "Epoch [24/100] Loss: 13.5483 | LR: 0.000025\n",
            "Epoch [25/100] Loss: 9.0007 | LR: 0.000025\n",
            "Epoch [26/100] Loss: 8.3515 | LR: 0.000025\n",
            "Epoch [27/100] Loss: 9.9226 | LR: 0.000025\n",
            "Epoch [28/100] Loss: 9.6879 | LR: 0.000025\n",
            "Epoch [29/100] Loss: 8.4500 | LR: 0.000025\n",
            "Epoch [30/100] Loss: 9.5536 | LR: 0.000013\n",
            "Epoch [31/100] Loss: 9.3324 | LR: 0.000013\n",
            "Epoch [32/100] Loss: 7.4709 | LR: 0.000013\n",
            "Epoch [33/100] Loss: 7.3712 | LR: 0.000013\n",
            "Epoch [34/100] Loss: 8.3426 | LR: 0.000013\n",
            "Epoch [35/100] Loss: 8.0912 | LR: 0.000013\n",
            "Epoch [36/100] Loss: 9.6772 | LR: 0.000013\n",
            "Epoch [37/100] Loss: 6.1772 | LR: 0.000013\n",
            "Epoch [38/100] Loss: 7.7600 | LR: 0.000013\n",
            "Epoch [39/100] Loss: 8.1721 | LR: 0.000013\n",
            "Epoch [40/100] Loss: 8.4435 | LR: 0.000006\n",
            "Epoch [41/100] Loss: 8.5988 | LR: 0.000006\n",
            "Epoch [42/100] Loss: 7.7486 | LR: 0.000006\n",
            "Epoch [43/100] Loss: 6.7966 | LR: 0.000006\n",
            "Epoch [44/100] Loss: 6.0963 | LR: 0.000006\n",
            "Epoch [45/100] Loss: 6.3762 | LR: 0.000006\n",
            "Epoch [46/100] Loss: 7.2296 | LR: 0.000006\n",
            "Epoch [47/100] Loss: 5.8608 | LR: 0.000006\n",
            "Epoch [48/100] Loss: 6.6485 | LR: 0.000006\n",
            "Epoch [49/100] Loss: 5.7677 | LR: 0.000006\n",
            "Epoch [50/100] Loss: 5.6950 | LR: 0.000003\n",
            "Epoch [51/100] Loss: 5.7262 | LR: 0.000003\n",
            "Epoch [52/100] Loss: 6.2101 | LR: 0.000003\n",
            "Epoch [53/100] Loss: 7.6871 | LR: 0.000003\n",
            "Epoch [54/100] Loss: 5.6439 | LR: 0.000003\n",
            "Epoch [55/100] Loss: 5.2268 | LR: 0.000003\n",
            "Epoch [56/100] Loss: 6.1755 | LR: 0.000003\n",
            "Epoch [57/100] Loss: 5.8594 | LR: 0.000003\n",
            "Epoch [58/100] Loss: 5.1309 | LR: 0.000003\n",
            "Epoch [59/100] Loss: 5.4132 | LR: 0.000003\n",
            "Epoch [60/100] Loss: 5.9480 | LR: 0.000002\n",
            "Epoch [61/100] Loss: 6.5308 | LR: 0.000002\n",
            "Epoch [62/100] Loss: 4.9357 | LR: 0.000002\n",
            "Epoch [63/100] Loss: 6.6844 | LR: 0.000002\n",
            "Epoch [64/100] Loss: 5.7282 | LR: 0.000002\n",
            "Epoch [65/100] Loss: 6.4376 | LR: 0.000002\n",
            "Epoch [66/100] Loss: 4.8319 | LR: 0.000002\n",
            "Epoch [67/100] Loss: 4.7992 | LR: 0.000002\n",
            "Epoch [68/100] Loss: 6.5247 | LR: 0.000002\n",
            "Epoch [69/100] Loss: 5.9322 | LR: 0.000002\n",
            "Epoch [70/100] Loss: 5.5883 | LR: 0.000001\n",
            "Epoch [71/100] Loss: 6.7216 | LR: 0.000001\n",
            "Epoch [72/100] Loss: 4.4447 | LR: 0.000001\n",
            "Epoch [73/100] Loss: 4.5519 | LR: 0.000001\n",
            "Epoch [74/100] Loss: 4.6977 | LR: 0.000001\n",
            "Epoch [75/100] Loss: 4.7330 | LR: 0.000001\n",
            "Epoch [76/100] Loss: 5.4244 | LR: 0.000001\n",
            "Epoch [77/100] Loss: 4.9428 | LR: 0.000001\n",
            "Epoch [78/100] Loss: 4.8961 | LR: 0.000001\n",
            "Epoch [79/100] Loss: 3.9438 | LR: 0.000001\n",
            "Epoch [80/100] Loss: 6.3600 | LR: 0.000000\n",
            "Epoch [81/100] Loss: 8.1371 | LR: 0.000000\n",
            "Epoch [82/100] Loss: 6.4276 | LR: 0.000000\n",
            "Epoch [83/100] Loss: 5.1518 | LR: 0.000000\n",
            "Epoch [84/100] Loss: 10.2706 | LR: 0.000000\n",
            "Epoch [85/100] Loss: 8.4750 | LR: 0.000000\n",
            "Epoch [86/100] Loss: 4.7120 | LR: 0.000000\n",
            "Epoch [87/100] Loss: 6.4499 | LR: 0.000000\n",
            "Epoch [88/100] Loss: 5.2556 | LR: 0.000000\n",
            "Epoch [89/100] Loss: 6.0443 | LR: 0.000000\n",
            "Epoch [90/100] Loss: 5.2713 | LR: 0.000000\n",
            "Epoch [91/100] Loss: 7.0396 | LR: 0.000000\n",
            "Epoch [92/100] Loss: 5.0289 | LR: 0.000000\n",
            "Epoch [93/100] Loss: 6.6516 | LR: 0.000000\n",
            "Epoch [94/100] Loss: 4.9522 | LR: 0.000000\n",
            "Epoch [95/100] Loss: 6.0672 | LR: 0.000000\n",
            "Epoch [96/100] Loss: 6.9841 | LR: 0.000000\n",
            "Epoch [97/100] Loss: 4.8087 | LR: 0.000000\n",
            "Epoch [98/100] Loss: 5.0408 | LR: 0.000000\n",
            "Epoch [99/100] Loss: 4.4759 | LR: 0.000000\n",
            "Epoch [100/100] Loss: 5.4785 | LR: 0.000000\n"
          ]
        },
        {
          "data": {
            "image/png": "[encoded data removed]",
            "text/plain": [
              "<Figure size 640x480 with 1 Axes>"
            ]
          },
          "metadata": {},
          "output_type": "display_data"
        },
        {
          "name": "stdout",
          "output_type": "stream",
          "text": [
            "Training finished!\n"
          ]
        }
      ],
      "source": [
        "cnn = CNN(train_dataset, test_dataset)\n",
        "cnn.train(epochs=100, learning_rate=0.0001, step_size=10, gamma=0.5)\n",
        "cnn.validate()"
      ]
    },
    {
      "cell_type": "code",
      "execution_count": 82,
      "metadata": {
        "colab": {
          "base_uri": "https://localhost:8080/",
          "height": 891
        },
        "id": "7faaC4Dc7xt7",
        "outputId": "8f877a8b-143b-459c-db43-35f203026935"
      },
      "outputs": [
        {
          "name": "stdout",
          "output_type": "stream",
          "text": [
            "[[13.93    0.1168]]\n",
            "[[11.471536    0.10448346]]\n"
          ]
        }
      ],
      "source": [
        "img, label = train_dataset.__getitem__(30)\n",
        "\n",
        "print(cnn.unscale_predict(torch.tensor(label.reshape(-1,2)).to(device)))\n",
        "encoding = cnn.unscale_predict(cnn(img.to(device).unsqueeze(0), predict=True))\n",
        "\n",
        "print(encoding)"
      ]
    }
  ],
  "metadata": {
    "accelerator": "GPU",
    "colab": {
      "gpuType": "T4",
      "provenance": []
    },
    "kernelspec": {
      "display_name": "eos",
      "language": "python",
      "name": "python3"
    },
    "language_info": {
      "codemirror_mode": {
        "name": "ipython",
        "version": 3
      },
      "file_extension": ".py",
      "mimetype": "text/x-python",
      "name": "python",
      "nbconvert_exporter": "python",
      "pygments_lexer": "ipython3",
      "version": "3.12.9"
    }
  },
  "nbformat": 4,
  "nbformat_minor": 0
}
