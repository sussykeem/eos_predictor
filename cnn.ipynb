{
  "nbformat": 4,
  "nbformat_minor": 0,
  "metadata": {
    "colab": {
      "provenance": [],
      "gpuType": "T4"
    },
    "kernelspec": {
      "name": "python3",
      "display_name": "Python 3"
    },
    "language_info": {
      "name": "python"
    },
    "accelerator": "GPU"
  },
  "cells": [
    {
      "cell_type": "code",
      "source": [
        "!pip install rdkit"
      ],
      "metadata": {
        "colab": {
          "base_uri": "https://localhost:8080/"
        },
        "id": "1PrqCQDDqah2",
        "outputId": "7401d3ff-3855-4688-e17b-bdd59a258066"
      },
      "execution_count": 1,
      "outputs": [
        {
          "output_type": "stream",
          "name": "stdout",
          "text": [
            "Collecting rdkit\n",
            "  Downloading rdkit-2024.9.5-cp311-cp311-manylinux_2_28_x86_64.whl.metadata (4.0 kB)\n",
            "Requirement already satisfied: numpy in /usr/local/lib/python3.11/dist-packages (from rdkit) (1.26.4)\n",
            "Requirement already satisfied: Pillow in /usr/local/lib/python3.11/dist-packages (from rdkit) (11.1.0)\n",
            "Downloading rdkit-2024.9.5-cp311-cp311-manylinux_2_28_x86_64.whl (34.3 MB)\n",
            "\u001b[2K   \u001b[90m━━━━━━━━━━━━━━━━━━━━━━━━━━━━━━━━━━━━━━━━\u001b[0m \u001b[32m34.3/34.3 MB\u001b[0m \u001b[31m15.3 MB/s\u001b[0m eta \u001b[36m0:00:00\u001b[0m\n",
            "\u001b[?25hInstalling collected packages: rdkit\n",
            "Successfully installed rdkit-2024.9.5\n"
          ]
        }
      ]
    },
    {
      "cell_type": "code",
      "source": [
        "import numpy as np\n",
        "import pandas as pd\n",
        "import matplotlib.pyplot as plt\n",
        "from rdkit import Chem\n",
        "from rdkit.Chem import Draw\n",
        "\n",
        "import torch\n",
        "import torch.nn as nn\n",
        "import torch.optim as optim\n",
        "import torch.nn.functional as F\n",
        "import torchvision.transforms as transforms\n",
        "from torch.utils.data import Dataset, DataLoader\n",
        "from sklearn.preprocessing import StandardScaler"
      ],
      "metadata": {
        "id": "sAmXUfIsqIXZ"
      },
      "execution_count": 2,
      "outputs": []
    },
    {
      "cell_type": "code",
      "source": [
        "device = torch.device(\"cuda:0\" if torch.cuda.is_available() else \"cpu\")\n",
        "print(device)"
      ],
      "metadata": {
        "id": "CkhATIO1tMb6",
        "outputId": "7c0c1e27-aaa6-4f2d-b97e-a8f00d1d07e3",
        "colab": {
          "base_uri": "https://localhost:8080/"
        }
      },
      "execution_count": 3,
      "outputs": [
        {
          "output_type": "stream",
          "name": "stdout",
          "text": [
            "cuda:0\n"
          ]
        }
      ]
    },
    {
      "cell_type": "code",
      "source": [
        "train_url = 'https://raw.githubusercontent.com/sussykeem/eos_predictor/refs/heads/main/eos_dataset/train_data.csv'\n",
        "test_url = 'https://raw.githubusercontent.com/sussykeem/eos_predictor/refs/heads/main/eos_dataset/test_data.csv'"
      ],
      "metadata": {
        "id": "xieT3LVGqUg5"
      },
      "execution_count": 4,
      "outputs": []
    },
    {
      "cell_type": "code",
      "execution_count": 5,
      "metadata": {
        "colab": {
          "base_uri": "https://localhost:8080/",
          "height": 317
        },
        "id": "S55-Zbk5p4jQ",
        "outputId": "0ce2b980-ef90-4aee-cc2c-368036fe8bd7"
      },
      "outputs": [
        {
          "output_type": "execute_result",
          "data": {
            "text/plain": [
              "<PIL.PngImagePlugin.PngImageFile image mode=RGB size=300x300>"
            ],
            "image/png": "[encoded data removed]",
            "image/jpeg": "[encoded data removed]"
          },
          "metadata": {},
          "execution_count": 5
        }
      ],
      "source": [
        "class MoleculeVisualizer():\n",
        "    def visualize_molecule_2D(self,smiles):\n",
        "        \"\"\"\n",
        "        Generates a 2D image of the molecule from its SMILES representation.\n",
        "        \"\"\"\n",
        "        mol = Chem.MolFromSmiles(smiles)\n",
        "        if mol is None:\n",
        "            print(\"Invalid SMILES string.\")\n",
        "            return\n",
        "\n",
        "        img = Draw.MolToImage(mol, size=(300, 300))\n",
        "\n",
        "        return img\n",
        "\n",
        "visualizer = MoleculeVisualizer()\n",
        "visualizer.visualize_molecule_2D('CCO')"
      ]
    },
    {
      "cell_type": "code",
      "source": [
        "train_data = pd.read_csv(train_url)\n",
        "test_data = pd.read_csv(test_url)\n",
        "\n",
        "X_cols = ['sci_name','name','cid','smile','Molecular Weight','LogP','TPSA','Rotatable Bonds','H Bond Donors','H Bond Acceptors','Aromatic Rings','Num Rings','Atom Count','coulomb_matrix','embeddings']\n",
        "y_cols = ['a', 'b']\n",
        "\n",
        "X_train = train_data[X_cols]\n",
        "y_train = train_data[y_cols]\n",
        "X_test = test_data[X_cols]\n",
        "y_test = test_data[y_cols]\n",
        "\n",
        "print(X_train.shape, y_train.shape, X_test.shape, y_test.shape)"
      ],
      "metadata": {
        "colab": {
          "base_uri": "https://localhost:8080/"
        },
        "id": "uOIzx9CHqi6a",
        "outputId": "3d3747a3-5dbe-4239-9c4a-fb02198591db"
      },
      "execution_count": 6,
      "outputs": [
        {
          "output_type": "stream",
          "name": "stdout",
          "text": [
            "(165, 15) (165, 2) (55, 15) (55, 2)\n"
          ]
        }
      ]
    },
    {
      "cell_type": "code",
      "source": [
        "a_mean = y_train['a'].mean()\n",
        "b_mean = y_train['b'].mean()\n",
        "\n",
        "diff = a_mean / b_mean\n",
        "print(diff)"
      ],
      "metadata": {
        "id": "p-BG6BLiHYch",
        "outputId": "073e0531-283e-4003-b614-707d64c6350d",
        "colab": {
          "base_uri": "https://localhost:8080/"
        }
      },
      "execution_count": 17,
      "outputs": [
        {
          "output_type": "stream",
          "name": "stdout",
          "text": [
            "159.90314965096417\n"
          ]
        }
      ]
    },
    {
      "cell_type": "code",
      "source": [
        "train_imgs = []\n",
        "test_imgs = []\n",
        "\n",
        "for smile in X_train['smile']:\n",
        "    img = MoleculeVisualizer().visualize_molecule_2D(smile)\n",
        "    train_imgs.append(np.array(img, dtype=np.float32))\n",
        "\n",
        "for smile in X_test['smile']:\n",
        "    img = MoleculeVisualizer().visualize_molecule_2D(smile)\n",
        "    test_imgs.append(np.array(img, dtype=np.float32))\n",
        "\n",
        "train_imgs = np.array(train_imgs)\n",
        "test_imgs = np.array(test_imgs)\n",
        "\n",
        "print(train_imgs.shape, test_imgs.shape)"
      ],
      "metadata": {
        "colab": {
          "base_uri": "https://localhost:8080/"
        },
        "id": "5bRekeJ2q9T0",
        "outputId": "cff1b926-b36d-46a1-e0a8-ec59373d2d8c"
      },
      "execution_count": 7,
      "outputs": [
        {
          "output_type": "stream",
          "name": "stderr",
          "text": [
            "[21:28:26] WARNING: not removing hydrogen atom without neighbors\n"
          ]
        },
        {
          "output_type": "stream",
          "name": "stdout",
          "text": [
            "(165, 300, 300, 3) (55, 300, 300, 3)\n"
          ]
        }
      ]
    },
    {
      "cell_type": "code",
      "source": [
        "class EOSDataset(Dataset):\n",
        "\n",
        "  def __init__(self, imgs, y, scale=True):\n",
        "    self.imgs = imgs\n",
        "    self.y = y.values.astype(np.float32)\n",
        "    self.transform = transforms.Compose([\n",
        "      transforms.ToTensor(),\n",
        "      transforms.Normalize((0.5, 0.5, 0.5), (0.5, 0.5, 0.5))\n",
        "    ])\n",
        "\n",
        "    # Separate scalers for a and b\n",
        "    self.scaler_a = StandardScaler()\n",
        "    self.scaler_b = StandardScaler()\n",
        "\n",
        "    # Fit scalers on the respective columns\n",
        "    if scale:\n",
        "      self.y[:, 0] = self.scaler_a.fit_transform(self.y[:, 0].reshape(-1, 1)).reshape(-1)\n",
        "      self.y[:, 1] = self.scaler_b.fit_transform(self.y[:, 1].reshape(-1, 1)).reshape(-1)\n",
        "\n",
        "\n",
        "  def __len__(self):\n",
        "    return len(self.imgs)\n",
        "\n",
        "  def __getitem__(self, idx):\n",
        "    img = self.imgs[idx]\n",
        "    label = self.y[idx]\n",
        "\n",
        "    img = self.transform(img)\n",
        "\n",
        "    return img, label\n",
        "\n",
        "  def transform(self, img):\n",
        "    return self.transform(img)\n",
        "\n",
        ""
      ],
      "metadata": {
        "id": "XzDal_4psKiB"
      },
      "execution_count": 18,
      "outputs": []
    },
    {
      "cell_type": "code",
      "source": [
        "from re import M\n",
        "class CNN(nn.Module):\n",
        "\n",
        "  def __init__(self, train_dataset, test_dataset):\n",
        "    super(CNN, self).__init__()\n",
        "\n",
        "    self.cnn_pipeline = nn.Sequential(\n",
        "        nn.Conv2d(3, 32, kernel_size=7, padding=1),\n",
        "        nn.BatchNorm2d(32, affine=False),\n",
        "        nn.ReLU(),\n",
        "        nn.MaxPool2d(kernel_size=2, stride=2),\n",
        "        nn.Conv2d(32, 64, kernel_size=5, padding=2),\n",
        "        nn.BatchNorm2d(64, affine=False),\n",
        "        nn.ReLU(),\n",
        "        nn.MaxPool2d(kernel_size=2, stride=2),\n",
        "        nn.Conv2d(64, 128, kernel_size=3, padding=1),\n",
        "        nn.BatchNorm2d(128, affine=False),\n",
        "        nn.ReLU()\n",
        "    )\n",
        "\n",
        "    self.fc_pipeline = nn.Sequential(\n",
        "        nn.Linear(128 * 74 * 74, 128),\n",
        "        nn.ReLU(),\n",
        "        nn.Dropout(0.3),\n",
        "        nn.Linear(128, 64),\n",
        "        nn.ReLU(),\n",
        "    )\n",
        "\n",
        "    self.output_layer = nn.Linear(64, 2)\n",
        "\n",
        "    self.train_dataset = train_dataset\n",
        "    self.test_dataset = test_dataset\n",
        "\n",
        "\n",
        "    self.train_loader = DataLoader(self.train_dataset, batch_size=32, shuffle=True)\n",
        "    self.test_loader = DataLoader(self.test_dataset, batch_size=32, shuffle=False)\n",
        "\n",
        "    # self._initialize_weights()\n",
        "\n",
        "  def _initialize_weights(self):\n",
        "        for m in self.modules():\n",
        "            if isinstance(m, nn.Conv2d) or isinstance(m, nn.Linear):\n",
        "                nn.init.xavier_uniform_(m.weight)\n",
        "                if m.bias is not None:\n",
        "                    nn.init.zeros_(m.bias)\n",
        "\n",
        "  # For training model on a and b and getting embedded vector for PKAN\n",
        "  def forward(self, x, predict=False):\n",
        "    x = self.cnn_pipeline(x)\n",
        "    x = torch.flatten(x, 1)\n",
        "    x = self.fc_pipeline(x)\n",
        "    if predict:\n",
        "        x = self.output_layer(x)\n",
        "    return x\n",
        "\n",
        "  def unscale_predict(self, x, train=True):\n",
        "    if train:\n",
        "      scaler_a = self.train_dataset.scaler_a\n",
        "      scaler_b = self.train_dataset.scaler_b\n",
        "    else:\n",
        "      scaler_a = self.test_dataset.scaler_a\n",
        "      scaler_b = self.test_dataset.scaler_b\n",
        "\n",
        "    x[:, 0] = scaler_a.inverse_transform(x[:, 0].reshape(-1, 1)).reshape(-1)\n",
        "    x[:, 1] = scaler_b.inverse_transform(x[:, 1].reshape(-1, 1)).reshape(-1)\n",
        "    return x\n",
        "\n",
        "  def weighted_loss(self, outputs, labels):\n",
        "    criterion = nn.MSELoss()\n",
        "    loss = criterion(outputs, labels)\n",
        "    weight = torch.tensor([1.0, 160.0], device=device)  # Adjust if needed\n",
        "    return (loss * weight).mean()\n",
        "\n",
        "  def train(self, epochs, learning_rate, step_size, gamma):\n",
        "    optimizer = optim.Adam(self.parameters(), lr=learning_rate)\n",
        "    scheduler = optim.lr_scheduler.StepLR(optimizer, step_size=step_size, gamma=gamma)\n",
        "\n",
        "    self.to(device)  # Move the model to the device (GPU if available)\n",
        "\n",
        "    loss_history = []\n",
        "\n",
        "    for epoch in range(epochs):\n",
        "        running_loss = 0.0\n",
        "        for i, data in enumerate(self.train_loader, 0):\n",
        "            inputs, labels = data  # Get the inputs and labels from the data loader\n",
        "            inputs, labels = inputs.to(device), labels.to(device)  # Move data to device\n",
        "\n",
        "            optimizer.zero_grad()  # Zero the parameter gradients\n",
        "            outputs = self(inputs, predict=True)  # Forward pass\n",
        "            loss = self.weighted_loss(outputs, labels)  # Calculate the loss\n",
        "            loss_history.append(loss.item())\n",
        "            loss.backward()  # Backpropagation\n",
        "            optimizer.step()  # Update the model's parameters\n",
        "\n",
        "            running_loss += loss.item()  # Accumulate the loss for the epoch\n",
        "\n",
        "        scheduler.step()\n",
        "\n",
        "        # Print the average loss for the epoch\n",
        "        print(f\"Epoch [{epoch + 1}/{epochs}] Loss: {running_loss / len(self.train_loader):.4f} | LR: {scheduler.get_last_lr()[0]:.6f}\")\n",
        "\n",
        "    plt.figure()\n",
        "    plt.plot(loss_history)\n",
        "    plt.xlabel('Iterations')\n",
        "    plt.ylabel('Loss')\n",
        "    plt.title('Training Loss')\n",
        "    plt.show()\n",
        "\n",
        "    print(\"Training finished!\")\n",
        "\n",
        "    self.to(device)\n",
        "\n"
      ],
      "metadata": {
        "id": "pcNW3gGirC8v"
      },
      "execution_count": 22,
      "outputs": []
    },
    {
      "cell_type": "code",
      "source": [
        "train_dataset = EOSDataset(train_imgs, y_train, False)\n",
        "test_dataset = EOSDataset(test_imgs, y_test, False)"
      ],
      "metadata": {
        "id": "gME4l7FFtizn"
      },
      "execution_count": 23,
      "outputs": []
    },
    {
      "cell_type": "code",
      "source": [
        "cnn = CNN(train_dataset, test_dataset)\n",
        "cnn.train(epochs=100, learning_rate=0.001, step_size=10, gamma=0.8)"
      ],
      "metadata": {
        "colab": {
          "base_uri": "https://localhost:8080/"
        },
        "id": "AEO60xCvt0Zh",
        "outputId": "e9087ed6-6ecf-4619-d582-a2c046a5d53d"
      },
      "execution_count": null,
      "outputs": [
        {
          "output_type": "stream",
          "name": "stdout",
          "text": [
            "Epoch [1/100] Loss: 240789.8167 | LR: 0.001000\n",
            "Epoch [2/100] Loss: 26321.7070 | LR: 0.001000\n",
            "Epoch [3/100] Loss: 24457.1133 | LR: 0.001000\n",
            "Epoch [4/100] Loss: 13055.6518 | LR: 0.001000\n",
            "Epoch [5/100] Loss: 13600.1460 | LR: 0.001000\n",
            "Epoch [6/100] Loss: 9348.8351 | LR: 0.001000\n",
            "Epoch [7/100] Loss: 7421.2996 | LR: 0.001000\n",
            "Epoch [8/100] Loss: 7243.2845 | LR: 0.001000\n",
            "Epoch [9/100] Loss: 5066.4551 | LR: 0.001000\n",
            "Epoch [10/100] Loss: 4475.2389 | LR: 0.000800\n",
            "Epoch [11/100] Loss: 3936.0119 | LR: 0.000800\n",
            "Epoch [12/100] Loss: 3775.1149 | LR: 0.000800\n",
            "Epoch [13/100] Loss: 2770.0431 | LR: 0.000800\n",
            "Epoch [14/100] Loss: 2167.5567 | LR: 0.000800\n",
            "Epoch [15/100] Loss: 2344.3612 | LR: 0.000800\n",
            "Epoch [16/100] Loss: 2330.8068 | LR: 0.000800\n",
            "Epoch [17/100] Loss: 2664.1023 | LR: 0.000800\n",
            "Epoch [18/100] Loss: 1829.5967 | LR: 0.000800\n",
            "Epoch [19/100] Loss: 2365.8555 | LR: 0.000800\n",
            "Epoch [20/100] Loss: 2111.0424 | LR: 0.000640\n",
            "Epoch [21/100] Loss: 2536.9594 | LR: 0.000640\n",
            "Epoch [22/100] Loss: 2769.1367 | LR: 0.000640\n",
            "Epoch [23/100] Loss: 2206.2525 | LR: 0.000640\n",
            "Epoch [24/100] Loss: 1547.1750 | LR: 0.000640\n",
            "Epoch [25/100] Loss: 1809.0348 | LR: 0.000640\n",
            "Epoch [26/100] Loss: 1486.3495 | LR: 0.000640\n",
            "Epoch [27/100] Loss: 2075.2259 | LR: 0.000640\n",
            "Epoch [28/100] Loss: 1320.7240 | LR: 0.000640\n",
            "Epoch [29/100] Loss: 931.0753 | LR: 0.000640\n",
            "Epoch [30/100] Loss: 1468.8118 | LR: 0.000512\n",
            "Epoch [31/100] Loss: 1510.2258 | LR: 0.000512\n",
            "Epoch [32/100] Loss: 1258.7211 | LR: 0.000512\n",
            "Epoch [33/100] Loss: 922.6039 | LR: 0.000512\n",
            "Epoch [34/100] Loss: 1357.5679 | LR: 0.000512\n",
            "Epoch [35/100] Loss: 1210.8999 | LR: 0.000512\n",
            "Epoch [36/100] Loss: 1544.1201 | LR: 0.000512\n",
            "Epoch [37/100] Loss: 757.5478 | LR: 0.000512\n",
            "Epoch [38/100] Loss: 1133.8509 | LR: 0.000512\n",
            "Epoch [39/100] Loss: 1369.9174 | LR: 0.000512\n",
            "Epoch [40/100] Loss: 963.9663 | LR: 0.000410\n",
            "Epoch [41/100] Loss: 1023.4420 | LR: 0.000410\n",
            "Epoch [42/100] Loss: 2003.2352 | LR: 0.000410\n",
            "Epoch [43/100] Loss: 2524.4463 | LR: 0.000410\n",
            "Epoch [44/100] Loss: 1146.1207 | LR: 0.000410\n",
            "Epoch [45/100] Loss: 783.9893 | LR: 0.000410\n",
            "Epoch [46/100] Loss: 1256.9823 | LR: 0.000410\n",
            "Epoch [47/100] Loss: 1244.8544 | LR: 0.000410\n",
            "Epoch [48/100] Loss: 1393.0167 | LR: 0.000410\n",
            "Epoch [49/100] Loss: 1074.2717 | LR: 0.000410\n",
            "Epoch [50/100] Loss: 795.3392 | LR: 0.000328\n",
            "Epoch [51/100] Loss: 1172.8500 | LR: 0.000328\n",
            "Epoch [52/100] Loss: 898.0105 | LR: 0.000328\n",
            "Epoch [53/100] Loss: 1095.6626 | LR: 0.000328\n",
            "Epoch [54/100] Loss: 827.2784 | LR: 0.000328\n",
            "Epoch [55/100] Loss: 768.0487 | LR: 0.000328\n",
            "Epoch [56/100] Loss: 1092.5514 | LR: 0.000328\n",
            "Epoch [57/100] Loss: 776.7357 | LR: 0.000328\n",
            "Epoch [58/100] Loss: 590.9638 | LR: 0.000328\n",
            "Epoch [59/100] Loss: 2409.9271 | LR: 0.000328\n",
            "Epoch [60/100] Loss: 926.7738 | LR: 0.000262\n"
          ]
        }
      ]
    },
    {
      "cell_type": "code",
      "source": [
        "img, label = train_dataset.__getitem__(0)\n",
        "\n",
        "encoding = cnn.unscale_predict(cnn.predict(img.to(device).unsqueeze(0)))\n",
        "\n",
        "print(encoding)"
      ],
      "metadata": {
        "id": "7faaC4Dc7xt7",
        "outputId": "8f877a8b-143b-459c-db43-35f203026935",
        "colab": {
          "base_uri": "https://localhost:8080/",
          "height": 891
        }
      },
      "execution_count": 86,
      "outputs": [
        {
          "output_type": "error",
          "ename": "TypeError",
          "evalue": "can't convert cuda:0 device type tensor to numpy. Use Tensor.cpu() to copy the tensor to host memory first.",
          "traceback": [
            "\u001b[0;31m---------------------------------------------------------------------------\u001b[0m",
            "\u001b[0;31mTypeError\u001b[0m                                 Traceback (most recent call last)",
            "\u001b[0;32m<ipython-input-86-ff02d10ad462>\u001b[0m in \u001b[0;36m<cell line: 0>\u001b[0;34m()\u001b[0m\n\u001b[1;32m      1\u001b[0m \u001b[0mimg\u001b[0m\u001b[0;34m,\u001b[0m \u001b[0mlabel\u001b[0m \u001b[0;34m=\u001b[0m \u001b[0mtrain_dataset\u001b[0m\u001b[0;34m.\u001b[0m\u001b[0m__getitem__\u001b[0m\u001b[0;34m(\u001b[0m\u001b[0;36m0\u001b[0m\u001b[0;34m)\u001b[0m\u001b[0;34m\u001b[0m\u001b[0;34m\u001b[0m\u001b[0m\n\u001b[1;32m      2\u001b[0m \u001b[0;34m\u001b[0m\u001b[0m\n\u001b[0;32m----> 3\u001b[0;31m \u001b[0mencoding\u001b[0m \u001b[0;34m=\u001b[0m \u001b[0mcnn\u001b[0m\u001b[0;34m.\u001b[0m\u001b[0munscale_predict\u001b[0m\u001b[0;34m(\u001b[0m\u001b[0mcnn\u001b[0m\u001b[0;34m.\u001b[0m\u001b[0mpredict\u001b[0m\u001b[0;34m(\u001b[0m\u001b[0mimg\u001b[0m\u001b[0;34m.\u001b[0m\u001b[0mto\u001b[0m\u001b[0;34m(\u001b[0m\u001b[0mdevice\u001b[0m\u001b[0;34m)\u001b[0m\u001b[0;34m.\u001b[0m\u001b[0munsqueeze\u001b[0m\u001b[0;34m(\u001b[0m\u001b[0;36m0\u001b[0m\u001b[0;34m)\u001b[0m\u001b[0;34m)\u001b[0m\u001b[0;34m)\u001b[0m\u001b[0;34m\u001b[0m\u001b[0;34m\u001b[0m\u001b[0m\n\u001b[0m\u001b[1;32m      4\u001b[0m \u001b[0;34m\u001b[0m\u001b[0m\n\u001b[1;32m      5\u001b[0m \u001b[0mprint\u001b[0m\u001b[0;34m(\u001b[0m\u001b[0mencoding\u001b[0m\u001b[0;34m)\u001b[0m\u001b[0;34m\u001b[0m\u001b[0;34m\u001b[0m\u001b[0m\n",
            "\u001b[0;32m<ipython-input-84-5fb37424efee>\u001b[0m in \u001b[0;36munscale_predict\u001b[0;34m(self, x, train)\u001b[0m\n\u001b[1;32m     61\u001b[0m       \u001b[0mscaler\u001b[0m \u001b[0;34m=\u001b[0m \u001b[0mself\u001b[0m\u001b[0;34m.\u001b[0m\u001b[0mtest_dataset\u001b[0m\u001b[0;34m.\u001b[0m\u001b[0mscaler\u001b[0m\u001b[0;34m\u001b[0m\u001b[0;34m\u001b[0m\u001b[0m\n\u001b[1;32m     62\u001b[0m \u001b[0;34m\u001b[0m\u001b[0m\n\u001b[0;32m---> 63\u001b[0;31m     \u001b[0mx\u001b[0m \u001b[0;34m=\u001b[0m \u001b[0mscaler\u001b[0m\u001b[0;34m.\u001b[0m\u001b[0minverse_transform\u001b[0m\u001b[0;34m(\u001b[0m\u001b[0mx\u001b[0m\u001b[0;34m)\u001b[0m\u001b[0;34m\u001b[0m\u001b[0;34m\u001b[0m\u001b[0m\n\u001b[0m\u001b[1;32m     64\u001b[0m     \u001b[0;32mreturn\u001b[0m \u001b[0mx\u001b[0m\u001b[0;34m\u001b[0m\u001b[0;34m\u001b[0m\u001b[0m\n\u001b[1;32m     65\u001b[0m \u001b[0;34m\u001b[0m\u001b[0m\n",
            "\u001b[0;32m/usr/local/lib/python3.11/dist-packages/sklearn/preprocessing/_data.py\u001b[0m in \u001b[0;36minverse_transform\u001b[0;34m(self, X, copy)\u001b[0m\n\u001b[1;32m   1104\u001b[0m \u001b[0;34m\u001b[0m\u001b[0m\n\u001b[1;32m   1105\u001b[0m         \u001b[0mcopy\u001b[0m \u001b[0;34m=\u001b[0m \u001b[0mcopy\u001b[0m \u001b[0;32mif\u001b[0m \u001b[0mcopy\u001b[0m \u001b[0;32mis\u001b[0m \u001b[0;32mnot\u001b[0m \u001b[0;32mNone\u001b[0m \u001b[0;32melse\u001b[0m \u001b[0mself\u001b[0m\u001b[0;34m.\u001b[0m\u001b[0mcopy\u001b[0m\u001b[0;34m\u001b[0m\u001b[0;34m\u001b[0m\u001b[0m\n\u001b[0;32m-> 1106\u001b[0;31m         X = check_array(\n\u001b[0m\u001b[1;32m   1107\u001b[0m             \u001b[0mX\u001b[0m\u001b[0;34m,\u001b[0m\u001b[0;34m\u001b[0m\u001b[0;34m\u001b[0m\u001b[0m\n\u001b[1;32m   1108\u001b[0m             \u001b[0maccept_sparse\u001b[0m\u001b[0;34m=\u001b[0m\u001b[0;34m\"csr\"\u001b[0m\u001b[0;34m,\u001b[0m\u001b[0;34m\u001b[0m\u001b[0;34m\u001b[0m\u001b[0m\n",
            "\u001b[0;32m/usr/local/lib/python3.11/dist-packages/sklearn/utils/validation.py\u001b[0m in \u001b[0;36mcheck_array\u001b[0;34m(array, accept_sparse, accept_large_sparse, dtype, order, copy, force_writeable, force_all_finite, ensure_all_finite, ensure_non_negative, ensure_2d, allow_nd, ensure_min_samples, ensure_min_features, estimator, input_name)\u001b[0m\n\u001b[1;32m   1053\u001b[0m                     \u001b[0marray\u001b[0m \u001b[0;34m=\u001b[0m \u001b[0mxp\u001b[0m\u001b[0;34m.\u001b[0m\u001b[0mastype\u001b[0m\u001b[0;34m(\u001b[0m\u001b[0marray\u001b[0m\u001b[0;34m,\u001b[0m \u001b[0mdtype\u001b[0m\u001b[0;34m,\u001b[0m \u001b[0mcopy\u001b[0m\u001b[0;34m=\u001b[0m\u001b[0;32mFalse\u001b[0m\u001b[0;34m)\u001b[0m\u001b[0;34m\u001b[0m\u001b[0;34m\u001b[0m\u001b[0m\n\u001b[1;32m   1054\u001b[0m                 \u001b[0;32melse\u001b[0m\u001b[0;34m:\u001b[0m\u001b[0;34m\u001b[0m\u001b[0;34m\u001b[0m\u001b[0m\n\u001b[0;32m-> 1055\u001b[0;31m                     \u001b[0marray\u001b[0m \u001b[0;34m=\u001b[0m \u001b[0m_asarray_with_order\u001b[0m\u001b[0;34m(\u001b[0m\u001b[0marray\u001b[0m\u001b[0;34m,\u001b[0m \u001b[0morder\u001b[0m\u001b[0;34m=\u001b[0m\u001b[0morder\u001b[0m\u001b[0;34m,\u001b[0m \u001b[0mdtype\u001b[0m\u001b[0;34m=\u001b[0m\u001b[0mdtype\u001b[0m\u001b[0;34m,\u001b[0m \u001b[0mxp\u001b[0m\u001b[0;34m=\u001b[0m\u001b[0mxp\u001b[0m\u001b[0;34m)\u001b[0m\u001b[0;34m\u001b[0m\u001b[0;34m\u001b[0m\u001b[0m\n\u001b[0m\u001b[1;32m   1056\u001b[0m             \u001b[0;32mexcept\u001b[0m \u001b[0mComplexWarning\u001b[0m \u001b[0;32mas\u001b[0m \u001b[0mcomplex_warning\u001b[0m\u001b[0;34m:\u001b[0m\u001b[0;34m\u001b[0m\u001b[0;34m\u001b[0m\u001b[0m\n\u001b[1;32m   1057\u001b[0m                 raise ValueError(\n",
            "\u001b[0;32m/usr/local/lib/python3.11/dist-packages/sklearn/utils/_array_api.py\u001b[0m in \u001b[0;36m_asarray_with_order\u001b[0;34m(array, dtype, order, copy, xp, device)\u001b[0m\n\u001b[1;32m    837\u001b[0m             \u001b[0marray\u001b[0m \u001b[0;34m=\u001b[0m \u001b[0mnumpy\u001b[0m\u001b[0;34m.\u001b[0m\u001b[0marray\u001b[0m\u001b[0;34m(\u001b[0m\u001b[0marray\u001b[0m\u001b[0;34m,\u001b[0m \u001b[0morder\u001b[0m\u001b[0;34m=\u001b[0m\u001b[0morder\u001b[0m\u001b[0;34m,\u001b[0m \u001b[0mdtype\u001b[0m\u001b[0;34m=\u001b[0m\u001b[0mdtype\u001b[0m\u001b[0;34m)\u001b[0m\u001b[0;34m\u001b[0m\u001b[0;34m\u001b[0m\u001b[0m\n\u001b[1;32m    838\u001b[0m         \u001b[0;32melse\u001b[0m\u001b[0;34m:\u001b[0m\u001b[0;34m\u001b[0m\u001b[0;34m\u001b[0m\u001b[0m\n\u001b[0;32m--> 839\u001b[0;31m             \u001b[0marray\u001b[0m \u001b[0;34m=\u001b[0m \u001b[0mnumpy\u001b[0m\u001b[0;34m.\u001b[0m\u001b[0masarray\u001b[0m\u001b[0;34m(\u001b[0m\u001b[0marray\u001b[0m\u001b[0;34m,\u001b[0m \u001b[0morder\u001b[0m\u001b[0;34m=\u001b[0m\u001b[0morder\u001b[0m\u001b[0;34m,\u001b[0m \u001b[0mdtype\u001b[0m\u001b[0;34m=\u001b[0m\u001b[0mdtype\u001b[0m\u001b[0;34m)\u001b[0m\u001b[0;34m\u001b[0m\u001b[0;34m\u001b[0m\u001b[0m\n\u001b[0m\u001b[1;32m    840\u001b[0m \u001b[0;34m\u001b[0m\u001b[0m\n\u001b[1;32m    841\u001b[0m         \u001b[0;31m# At this point array is a NumPy ndarray. We convert it to an array\u001b[0m\u001b[0;34m\u001b[0m\u001b[0;34m\u001b[0m\u001b[0m\n",
            "\u001b[0;32m/usr/local/lib/python3.11/dist-packages/torch/_tensor.py\u001b[0m in \u001b[0;36m__array__\u001b[0;34m(self, dtype)\u001b[0m\n\u001b[1;32m   1149\u001b[0m             \u001b[0;32mreturn\u001b[0m \u001b[0mself\u001b[0m\u001b[0;34m.\u001b[0m\u001b[0mnumpy\u001b[0m\u001b[0;34m(\u001b[0m\u001b[0;34m)\u001b[0m\u001b[0;34m\u001b[0m\u001b[0;34m\u001b[0m\u001b[0m\n\u001b[1;32m   1150\u001b[0m         \u001b[0;32melse\u001b[0m\u001b[0;34m:\u001b[0m\u001b[0;34m\u001b[0m\u001b[0;34m\u001b[0m\u001b[0m\n\u001b[0;32m-> 1151\u001b[0;31m             \u001b[0;32mreturn\u001b[0m \u001b[0mself\u001b[0m\u001b[0;34m.\u001b[0m\u001b[0mnumpy\u001b[0m\u001b[0;34m(\u001b[0m\u001b[0;34m)\u001b[0m\u001b[0;34m.\u001b[0m\u001b[0mastype\u001b[0m\u001b[0;34m(\u001b[0m\u001b[0mdtype\u001b[0m\u001b[0;34m,\u001b[0m \u001b[0mcopy\u001b[0m\u001b[0;34m=\u001b[0m\u001b[0;32mFalse\u001b[0m\u001b[0;34m)\u001b[0m\u001b[0;34m\u001b[0m\u001b[0;34m\u001b[0m\u001b[0m\n\u001b[0m\u001b[1;32m   1152\u001b[0m \u001b[0;34m\u001b[0m\u001b[0m\n\u001b[1;32m   1153\u001b[0m     \u001b[0;31m# Wrap Numpy array again in a suitable tensor when done, to support e.g.\u001b[0m\u001b[0;34m\u001b[0m\u001b[0;34m\u001b[0m\u001b[0m\n",
            "\u001b[0;31mTypeError\u001b[0m: can't convert cuda:0 device type tensor to numpy. Use Tensor.cpu() to copy the tensor to host memory first."
          ]
        }
      ]
    }
  ]
}