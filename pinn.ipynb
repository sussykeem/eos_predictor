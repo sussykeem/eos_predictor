{
  "nbformat": 4,
  "nbformat_minor": 0,
  "metadata": {
    "colab": {
      "provenance": []
    },
    "kernelspec": {
      "name": "python3",
      "display_name": "Python 3"
    },
    "language_info": {
      "name": "python"
    }
  },
  "cells": [
    {
      "cell_type": "code",
      "source": [
        "import numpy as np\n",
        "import pandas as pd\n",
        "import matplotlib.pyplot as plt\n",
        "import torch\n",
        "import torch.nn as nn\n",
        "from sklearn.model_selection import train_test_split\n",
        "from sklearn.preprocessing import StandardScaler"
      ],
      "metadata": {
        "id": "m-7cY7NvERJK"
      },
      "execution_count": 132,
      "outputs": []
    },
    {
      "cell_type": "code",
      "execution_count": 9,
      "metadata": {
        "id": "EBpQG7_XEL9N"
      },
      "outputs": [],
      "source": [
        "url = 'https://raw.githubusercontent.com/sussykeem/eos_predictor/refs/heads/main/preprocessed_data%20-%20preprocessed_data.csv'"
      ]
    },
    {
      "cell_type": "code",
      "source": [
        "def numpy_to_tensor(array):\n",
        "  return torch.from_numpy(array).float()\n",
        "\n",
        "def tensor_to_numpy(tensor):\n",
        "    return tensor.detach().cpu().numpy() if tensor.ndim == 2 else tensor.detach().cpu().numpy().reshape(-1, 2)"
      ],
      "metadata": {
        "id": "mGYLr2qlWwZA"
      },
      "execution_count": 153,
      "outputs": []
    },
    {
      "cell_type": "code",
      "source": [
        "class DataLoader():\n",
        "\n",
        "  def __init__(self, url):\n",
        "    self.url = url\n",
        "    self.data = pd.read_csv(url)\n",
        "\n",
        "    self.embeddings = self.data['embeddings']\n",
        "    self.embeddings = np.array([eval(i) for i in self.embeddings])\n",
        "\n",
        "    self.mol_weights = self.data['Molecular Weight']\n",
        "    self.mol_weights = np.array([i for i in self.mol_weights])\n",
        "\n",
        "    self.targets = self.data[['a','b']]\n",
        "    self.targets = np.array(self.targets).T\n",
        "\n",
        "\n",
        "  def get_sample(self, index):\n",
        "    return self.embeddings[:, index]\n",
        "\n",
        "  def get_target(self, index):\n",
        "    return self.targets[:, index]"
      ],
      "metadata": {
        "id": "HLgtpxRaEc7t"
      },
      "execution_count": 142,
      "outputs": []
    },
    {
      "cell_type": "code",
      "source": [
        "class PINN(nn.Module):\n",
        "\n",
        "    def __init__(self, dataloader, layers_dim):\n",
        "        super(PINN, self).__init__()\n",
        "\n",
        "        self.dataloader = dataloader\n",
        "        self.scaler = StandardScaler()\n",
        "\n",
        "        self.X = numpy_to_tensor(self.dataloader.embeddings)\n",
        "        self.X_mol_weights = numpy_to_tensor(self.dataloader.mol_weights)\n",
        "        self.Y = self.dataloader.targets.T  # (N, 2)\n",
        "\n",
        "        self.Y = self.scaler.fit_transform(self.Y)\n",
        "        self.Y = numpy_to_tensor(self.Y)\n",
        "\n",
        "        indices = self.X.shape[0]\n",
        "        self.train_indices, self.test_indices = train_test_split(np.arange(indices), test_size=0.2, random_state=42)\n",
        "\n",
        "        self.X_train = self.X[self.train_indices]\n",
        "        self.X_test = self.X[self.test_indices]\n",
        "\n",
        "        self.X_mol_weights_train = self.X_mol_weights[self.train_indices]\n",
        "        self.X_mol_weights_test = self.X_mol_weights[self.test_indices]\n",
        "\n",
        "        # **Fixed Indexing**\n",
        "        self.Y_train = self.Y[self.train_indices]  # (N_train, 2)\n",
        "        self.Y_test = self.Y[self.test_indices]  # (N_test, 2)\n",
        "\n",
        "        self.layers_dim = layers_dim\n",
        "        self.hidden_layers = []\n",
        "\n",
        "        for l in self.layers_dim:\n",
        "            self.hidden_layers.append(nn.Linear(l[0], l[1]))\n",
        "            self.hidden_layers.append(nn.ReLU())\n",
        "\n",
        "        self.hidden_layers.append(nn.Linear(self.layers_dim[-1][1], 2))\n",
        "\n",
        "        self.apply(self.init_weights)\n",
        "\n",
        "        self.layers = nn.Sequential(*self.hidden_layers)\n",
        "\n",
        "        self.optimizer = torch.optim.Adam(self.parameters(), lr=0.001)\n",
        "\n",
        "    def init_weights(self, m):\n",
        "        if isinstance(m, nn.Linear):\n",
        "            nn.init.xavier_uniform_(m.weight)\n",
        "            if m.bias is not None:\n",
        "                nn.init.zeros_(m.bias)\n",
        "\n",
        "    def forward(self, x):\n",
        "        output = self.layers(x)\n",
        "        a = torch.relu(output[:, 0])  # constrain a to a > 0\n",
        "        b = torch.relu(output[:, 1])  # constrain b to b > 0\n",
        "        return torch.stack((a, b), dim=1)  # ✅ Returns a tensor of shape (N, 2)\n",
        "\n",
        "\n",
        "    def physics_loss(self, a, b, mol_weights):\n",
        "        loss = torch.mean(torch.relu(-a)) + torch.mean(torch.relu(-b))  # enforces positivity\n",
        "        sorted_indices = torch.argsort(mol_weights)\n",
        "        a_sorted, b_sorted = a[sorted_indices], b[sorted_indices]\n",
        "        trend_loss = torch.mean(torch.relu(a_sorted[:-1] - a_sorted[1:])) + torch.mean(torch.relu(b_sorted[:-1] - b_sorted[1:]))\n",
        "        return loss + trend_loss\n",
        "\n",
        "    def train(self, num_epochs):\n",
        "        for i in range(num_epochs):\n",
        "            self.optimizer.zero_grad()\n",
        "            pred = self.forward(self.X_train)\n",
        "            loss = self.total_loss(pred, self.Y_train, self.X_mol_weights_train)\n",
        "            loss.backward()\n",
        "            self.optimizer.step()\n",
        "\n",
        "            if i % 100 == 0:\n",
        "                print(f'Epoch {i}, Loss: {loss.item()}')\n",
        "\n",
        "    def total_loss(self, pred, targets, mol_weights):\n",
        "      # pred is (N, 2), so unpack directly\n",
        "      a_pred, b_pred = pred[:, 0], pred[:, 1]\n",
        "\n",
        "      loss_data = torch.mean((a_pred - targets[:, 0])**2 + (b_pred - targets[:, 1])**2)\n",
        "      loss_phys = self.physics_loss(a_pred, b_pred, mol_weights)\n",
        "\n",
        "      return loss_data + 0.1 * loss_phys  # Weighted sum of data + physics loss\n",
        "\n",
        "    def test(self):\n",
        "        with torch.no_grad():\n",
        "            pred = self.forward(self.X_test)  # Predict (tuple of (a, b))\n",
        "\n",
        "            # **Fixed: No `.T` needed**\n",
        "            loss = self.total_loss(pred, self.Y_test, self.X_mol_weights_test)\n",
        "\n",
        "            print(f'Test Loss: {loss.item()}')\n",
        "\n",
        "            Y_test = tensor_to_numpy(self.Y_test)  # Fix shape\n",
        "            unscaled_Y_test = self.scaler.inverse_transform(Y_test)\n",
        "\n",
        "            pred_np = pred.cpu().detach().numpy()  # Convert to NumPy\n",
        "            unscaled_pred = self.scaler.inverse_transform(pred_np)\n",
        "\n",
        "            self.graph_diff(unscaled_pred, unscaled_Y_test)\n",
        "        return pred, loss\n",
        "\n",
        "    def graph_diff(self, pred, target):\n",
        "        fig = plt.figure(figsize=(10, 5))\n",
        "\n",
        "        ax1 = fig.add_subplot(1, 2, 1)\n",
        "        ax2 = fig.add_subplot(1, 2, 2)\n",
        "\n",
        "        a_pred, b_pred = pred[:, 0], pred[:, 1]\n",
        "        a_true, b_true = target[:, 0], target[:, 1]\n",
        "\n",
        "        ax1.scatter(x=a_true, y=a_pred, label='a_pred')\n",
        "        ax2.scatter(x=b_true, y=b_pred, label='b_pred')\n",
        "\n",
        "        plt.legend()\n",
        "        plt.show()\n"
      ],
      "metadata": {
        "id": "q1yO-94jF5FW"
      },
      "execution_count": 167,
      "outputs": []
    },
    {
      "cell_type": "code",
      "source": [
        "d = DataLoader(url)\n",
        "\n",
        "print(d.get_sample(3))\n",
        "print(d.get_target(3))"
      ],
      "metadata": {
        "colab": {
          "base_uri": "https://localhost:8080/"
        },
        "id": "noXQzlzREpUS",
        "outputId": "9e7231f1-3f69-4a52-ffca-be789dd22a4b"
      },
      "execution_count": 107,
      "outputs": [
        {
          "output_type": "stream",
          "name": "stdout",
          "text": [
            "[0. 0. 0. 0. 0. 0. 0. 0. 0. 0. 0. 0. 0. 0. 0. 0. 0. 0. 0. 0. 0. 0. 0. 0.\n",
            " 0. 0. 0. 0. 0. 0. 0. 0. 0. 0. 0. 0. 0. 0. 0. 0. 0. 0. 0. 0. 0. 0. 0. 0.\n",
            " 0. 0. 0. 0. 0. 0. 0. 0. 0. 0. 0. 0. 0. 0. 0. 0. 0. 0. 0. 0. 0. 0. 0. 0.\n",
            " 0. 0. 0. 0. 0. 0. 0. 0. 0. 0. 0. 0. 0. 0. 0. 0. 0. 0. 0. 0. 0. 0. 0. 0.\n",
            " 0. 0. 0. 0. 0. 0. 0. 0. 0. 0. 0. 0. 0. 0. 0. 0. 0. 0. 0. 0. 0. 0. 0. 0.\n",
            " 0. 0. 0. 0. 0. 0. 0. 0. 0. 0. 0. 0. 0. 0. 0. 0. 0. 0. 0. 0. 0. 0. 0. 0.\n",
            " 0. 0. 0. 0. 0. 0. 0. 0. 0. 0. 0. 0. 0. 0. 0. 0. 0. 0. 0. 0. 0. 0. 0. 0.\n",
            " 0. 0. 0. 0. 0. 0. 0. 0. 0. 0. 0. 0. 0. 0. 0. 0. 0. 0. 0. 0. 0. 0. 0. 0.\n",
            " 0. 0. 0. 0. 0. 0. 0. 0. 0. 0. 0. 0. 0. 0. 0. 0. 0. 0. 0. 0. 0. 0. 0. 0.\n",
            " 0. 0. 0. 0.]\n",
            "[1.355   0.03201]\n"
          ]
        }
      ]
    },
    {
      "cell_type": "code",
      "source": [
        "p = PINN(dataloader=d, layers_dim=([2048, 1024], [1024, 512], [512, 256]))"
      ],
      "metadata": {
        "id": "hUcYKrTqVucg"
      },
      "execution_count": 168,
      "outputs": []
    },
    {
      "cell_type": "code",
      "source": [
        "p.train(1000)\n",
        "\n",
        "p.test()"
      ],
      "metadata": {
        "colab": {
          "base_uri": "https://localhost:8080/",
          "height": 1000
        },
        "id": "mZC8JjLsWpCk",
        "outputId": "47ca04a7-c2b1-4ccd-f5b8-3701d8577073"
      },
      "execution_count": 170,
      "outputs": [
        {
          "output_type": "stream",
          "name": "stdout",
          "text": [
            "Epoch 0, Loss: 0.8543413281440735\n",
            "Epoch 100, Loss: 0.853504478931427\n",
            "Epoch 200, Loss: 0.8543310165405273\n",
            "Epoch 300, Loss: 0.853608250617981\n",
            "Epoch 400, Loss: 0.8535171151161194\n",
            "Epoch 500, Loss: 0.8534993529319763\n",
            "Epoch 600, Loss: 0.853310227394104\n",
            "Epoch 700, Loss: 0.8533769845962524\n",
            "Epoch 800, Loss: 0.8533676862716675\n",
            "Epoch 900, Loss: 0.8533311486244202\n",
            "Test Loss: 0.8680683970451355\n"
          ]
        },
        {
          "output_type": "display_data",
          "data": {
            "text/plain": [
              "<Figure size 1000x500 with 2 Axes>"
            ],
            "image/png": "[encoded data removed]"
          },
          "metadata": {}
        },
        {
          "output_type": "execute_result",
          "data": {
            "text/plain": [
              "(tensor([[0.0000, 0.0000],\n",
              "         [0.0000, 0.0000],\n",
              "         [0.0000, 0.0000],\n",
              "         [0.2894, 0.1673],\n",
              "         [0.0278, 0.0000],\n",
              "         [0.0000, 0.0000],\n",
              "         [0.0000, 0.0000],\n",
              "         [2.3257, 2.2712],\n",
              "         [0.5343, 0.0000],\n",
              "         [0.0000, 0.0000],\n",
              "         [0.0000, 0.0000],\n",
              "         [0.0000, 0.0000],\n",
              "         [0.4669, 0.2087],\n",
              "         [0.0000, 0.0000],\n",
              "         [0.0000, 0.0000],\n",
              "         [1.9276, 1.6351],\n",
              "         [0.0000, 0.0000],\n",
              "         [0.0000, 0.0000],\n",
              "         [0.9834, 0.9709],\n",
              "         [0.0000, 0.0000],\n",
              "         [0.5694, 0.3839],\n",
              "         [0.0000, 0.0000],\n",
              "         [1.9276, 1.6351],\n",
              "         [0.1454, 0.0000],\n",
              "         [0.0000, 0.0000],\n",
              "         [1.9276, 1.6351],\n",
              "         [0.0000, 0.0000],\n",
              "         [0.0000, 0.0000],\n",
              "         [0.0000, 0.0000],\n",
              "         [0.0830, 0.0186],\n",
              "         [0.0000, 0.0000],\n",
              "         [0.0000, 0.0000],\n",
              "         [0.0000, 0.0000],\n",
              "         [1.0477, 0.8005],\n",
              "         [0.0000, 0.0000],\n",
              "         [0.0000, 0.0000],\n",
              "         [0.0000, 0.0000],\n",
              "         [0.0000, 0.0000],\n",
              "         [0.0000, 0.0000],\n",
              "         [0.0000, 0.0000],\n",
              "         [0.0000, 0.0000],\n",
              "         [0.0000, 0.0000],\n",
              "         [0.0000, 0.0000],\n",
              "         [0.0000, 0.8808]]),\n",
              " tensor(0.8681))"
            ]
          },
          "metadata": {},
          "execution_count": 170
        }
      ]
    }
  ]
}