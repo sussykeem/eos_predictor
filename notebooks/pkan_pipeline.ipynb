{
  "cells": [
    {
      "cell_type": "code",
      "execution_count": 1,
      "metadata": {
        "colab": {
          "base_uri": "https://localhost:8080/"
        },
        "id": "1PrqCQDDqah2",
        "outputId": "7401d3ff-3855-4688-e17b-bdd59a258066"
      },
      "outputs": [
        {
          "name": "stdout",
          "output_type": "stream",
          "text": [
            "Requirement already satisfied: rdkit in c:\\users\\karim\\anaconda3\\envs\\eos\\lib\\site-packages (2024.9.5)\n",
            "Requirement already satisfied: numpy in c:\\users\\karim\\anaconda3\\envs\\eos\\lib\\site-packages (from rdkit) (1.26.4)\n",
            "Requirement already satisfied: Pillow in c:\\users\\karim\\anaconda3\\envs\\eos\\lib\\site-packages (from rdkit) (11.1.0)\n"
          ]
        }
      ],
      "source": [
        "!pip install rdkit"
      ]
    },
    {
      "cell_type": "code",
      "execution_count": 2,
      "metadata": {
        "id": "sAmXUfIsqIXZ"
      },
      "outputs": [],
      "source": [
        "import numpy as np\n",
        "import pandas as pd\n",
        "import matplotlib.pyplot as plt\n",
        "from rdkit import Chem\n",
        "from rdkit.Chem import Draw\n",
        "\n",
        "import torch\n",
        "import torch.nn as nn\n",
        "import torch.optim as optim\n",
        "import torch.nn.functional as F\n",
        "import torchvision.transforms as transforms\n",
        "from torch.utils.data import Dataset, DataLoader\n",
        "from sklearn.preprocessing import StandardScaler"
      ]
    },
    {
      "cell_type": "code",
      "execution_count": 3,
      "metadata": {},
      "outputs": [
        {
          "name": "stdout",
          "output_type": "stream",
          "text": [
            "PyTorch version: 2.5.1\n",
            "CUDA available: True\n",
            "CUDA device count: 1\n",
            "GPU Name: NVIDIA GeForce RTX 4060 Ti\n",
            "Current CUDA device: 0\n"
          ]
        }
      ],
      "source": [
        "import torch\n",
        "print(\"PyTorch version:\", torch.__version__)\n",
        "print(\"CUDA available:\", torch.cuda.is_available())\n",
        "print(\"CUDA device count:\", torch.cuda.device_count())\n",
        "if torch.cuda.is_available():\n",
        "    print(\"GPU Name:\", torch.cuda.get_device_name(0))\n",
        "    print(\"Current CUDA device:\", torch.cuda.current_device())\n"
      ]
    },
    {
      "cell_type": "code",
      "execution_count": 4,
      "metadata": {
        "colab": {
          "base_uri": "https://localhost:8080/"
        },
        "id": "CkhATIO1tMb6",
        "outputId": "7c0c1e27-aaa6-4f2d-b97e-a8f00d1d07e3"
      },
      "outputs": [
        {
          "name": "stdout",
          "output_type": "stream",
          "text": [
            "cuda:0\n"
          ]
        }
      ],
      "source": [
        "device = torch.device(\"cuda:0\" if torch.cuda.is_available() else \"cpu\")\n",
        "print(device)"
      ]
    },
    {
      "cell_type": "code",
      "execution_count": 5,
      "metadata": {
        "id": "xieT3LVGqUg5"
      },
      "outputs": [],
      "source": [
        "train_url = 'https://raw.githubusercontent.com/sussykeem/eos_predictor/refs/heads/main/eos_dataset/train_data.csv'\n",
        "test_url = 'https://raw.githubusercontent.com/sussykeem/eos_predictor/refs/heads/main/eos_dataset/test_data.csv'"
      ]
    },
    {
      "cell_type": "code",
      "execution_count": 6,
      "metadata": {
        "colab": {
          "base_uri": "https://localhost:8080/",
          "height": 317
        },
        "id": "S55-Zbk5p4jQ",
        "outputId": "0ce2b980-ef90-4aee-cc2c-368036fe8bd7"
      },
      "outputs": [
        {
          "data": {
            "image/jpeg": "[encoded data removed]",
            "image/png": "[encoded data removed]",
            "text/plain": [
              "<PIL.PngImagePlugin.PngImageFile image mode=RGB size=300x300>"
            ]
          },
          "execution_count": 6,
          "metadata": {},
          "output_type": "execute_result"
        }
      ],
      "source": [
        "class MoleculeVisualizer():\n",
        "    def visualize_molecule_2D(self,smiles):\n",
        "        \"\"\"\n",
        "        Generates a 2D image of the molecule from its SMILES representation.\n",
        "        \"\"\"\n",
        "        mol = Chem.MolFromSmiles(smiles)\n",
        "        if mol is None:\n",
        "            print(\"Invalid SMILES string.\")\n",
        "            return\n",
        "\n",
        "        img = Draw.MolToImage(mol, size=(300, 300))\n",
        "\n",
        "        return img\n",
        "\n",
        "visualizer = MoleculeVisualizer()\n",
        "visualizer.visualize_molecule_2D('CCO')"
      ]
    },
    {
      "cell_type": "code",
      "execution_count": 7,
      "metadata": {
        "colab": {
          "base_uri": "https://localhost:8080/"
        },
        "id": "uOIzx9CHqi6a",
        "outputId": "3d3747a3-5dbe-4239-9c4a-fb02198591db"
      },
      "outputs": [
        {
          "name": "stdout",
          "output_type": "stream",
          "text": [
            "(165, 15) (165, 2) (55, 15) (55, 2)\n"
          ]
        }
      ],
      "source": [
        "train_data = pd.read_csv(train_url)\n",
        "test_data = pd.read_csv(test_url)\n",
        "\n",
        "X_cols = ['sci_name','name','cid','smile','Molecular Weight','LogP','TPSA','Rotatable Bonds','H Bond Donors','H Bond Acceptors','Aromatic Rings','Num Rings','Atom Count','coulomb_matrix','embeddings']\n",
        "y_cols = ['a', 'b']\n",
        "\n",
        "X_train = train_data[X_cols]\n",
        "y_train = train_data[y_cols]\n",
        "X_test = test_data[X_cols]\n",
        "y_test = test_data[y_cols]\n",
        "\n",
        "print(X_train.shape, y_train.shape, X_test.shape, y_test.shape)"
      ]
    },
    {
      "cell_type": "code",
      "execution_count": 8,
      "metadata": {
        "colab": {
          "base_uri": "https://localhost:8080/"
        },
        "id": "p-BG6BLiHYch",
        "outputId": "073e0531-283e-4003-b614-707d64c6350d"
      },
      "outputs": [
        {
          "name": "stdout",
          "output_type": "stream",
          "text": [
            "159.90314965096417\n"
          ]
        }
      ],
      "source": [
        "a_mean = y_train['a'].mean()\n",
        "b_mean = y_train['b'].mean()\n",
        "\n",
        "diff = a_mean / b_mean\n",
        "print(diff)"
      ]
    },
    {
      "cell_type": "code",
      "execution_count": 9,
      "metadata": {
        "colab": {
          "base_uri": "https://localhost:8080/"
        },
        "id": "5bRekeJ2q9T0",
        "outputId": "cff1b926-b36d-46a1-e0a8-ec59373d2d8c"
      },
      "outputs": [
        {
          "name": "stderr",
          "output_type": "stream",
          "text": [
            "[19:01:02] WARNING: not removing hydrogen atom without neighbors\n"
          ]
        },
        {
          "name": "stdout",
          "output_type": "stream",
          "text": [
            "(165, 300, 300, 3) (55, 300, 300, 3)\n"
          ]
        }
      ],
      "source": [
        "train_imgs = []\n",
        "test_imgs = []\n",
        "\n",
        "for smile in X_train['smile']:\n",
        "    img = MoleculeVisualizer().visualize_molecule_2D(smile)\n",
        "    train_imgs.append(np.array(img, dtype=np.float32))\n",
        "\n",
        "for smile in X_test['smile']:\n",
        "    img = MoleculeVisualizer().visualize_molecule_2D(smile)\n",
        "    test_imgs.append(np.array(img, dtype=np.float32))\n",
        "\n",
        "train_imgs = np.array(train_imgs, dtype=np.uint8)\n",
        "test_imgs = np.array(test_imgs, dtype=np.uint8)\n",
        "\n",
        "print(train_imgs.shape, test_imgs.shape)"
      ]
    },
    {
      "cell_type": "code",
      "execution_count": 10,
      "metadata": {
        "id": "XzDal_4psKiB"
      },
      "outputs": [],
      "source": [
        "class EOSDataset(Dataset):\n",
        "\n",
        "  def __init__(self, imgs, y, scale=True):\n",
        "    self.imgs = imgs\n",
        "    self.y = y.values.astype(np.float32)\n",
        "    self.transform = transforms.Compose([\n",
        "      transforms.ToTensor(),\n",
        "      transforms.Normalize((0.5, 0.5, 0.5), (0.5, 0.5, 0.5))\n",
        "    ])\n",
        "\n",
        "    # Separate scalers for a and b\n",
        "    self.scaler_a = StandardScaler()\n",
        "    self.scaler_b = StandardScaler()\n",
        "\n",
        "    # Fit scalers on the respective columns\n",
        "    if scale:\n",
        "      self.y[:, 0] = self.scaler_a.fit_transform(self.y[:, 0].reshape(-1, 1)).reshape(-1)\n",
        "      self.y[:, 1] = self.scaler_b.fit_transform(self.y[:, 1].reshape(-1, 1)).reshape(-1)\n",
        "\n",
        "\n",
        "  def __len__(self):\n",
        "    return len(self.imgs)\n",
        "\n",
        "  def __getitem__(self, idx):\n",
        "    img = self.imgs[idx]\n",
        "    label = self.y[idx]\n",
        "\n",
        "    img = self.transform(img)\n",
        "\n",
        "    return img, label\n",
        "\n",
        "  def transform(self, img):\n",
        "    return self.transform(img)\n",
        "\n"
      ]
    },
    {
      "cell_type": "code",
      "execution_count": 11,
      "metadata": {
        "id": "pcNW3gGirC8v"
      },
      "outputs": [],
      "source": [
        "class CNN(nn.Module):\n",
        "\n",
        "  def __init__(self, train_dataset, test_dataset):\n",
        "    super(CNN, self).__init__()\n",
        "\n",
        "    self.cnn_pipeline = nn.Sequential(\n",
        "        nn.Conv2d(3, 32, kernel_size=7, padding=1),\n",
        "        nn.BatchNorm2d(32, affine=False),\n",
        "        nn.ReLU(),\n",
        "        nn.MaxPool2d(kernel_size=2, stride=2),\n",
        "        nn.Conv2d(32, 64, kernel_size=5, padding=2),\n",
        "        nn.BatchNorm2d(64, affine=False),\n",
        "        nn.ReLU(),\n",
        "        nn.MaxPool2d(kernel_size=2, stride=2),\n",
        "        nn.Conv2d(64, 128, kernel_size=3, padding=1),\n",
        "        nn.BatchNorm2d(128, affine=False),\n",
        "        nn.ReLU()\n",
        "    )\n",
        "\n",
        "    self.fc_pipeline = nn.Sequential(\n",
        "        nn.Linear(128 * 74 * 74, 128),\n",
        "        nn.ReLU(),\n",
        "        nn.Dropout(0.1),\n",
        "        nn.Linear(128, 64),\n",
        "        nn.ReLU(),\n",
        "    )\n",
        "\n",
        "    self.output_layer = nn.Linear(64, 2)\n",
        "\n",
        "    self.train_dataset = train_dataset\n",
        "    self.test_dataset = test_dataset\n",
        "\n",
        "\n",
        "    self.train_loader = DataLoader(self.train_dataset, batch_size=32, shuffle=True)\n",
        "    self.test_loader = DataLoader(self.test_dataset, batch_size=32, shuffle=False)\n",
        "\n",
        "    self._initialize_weights()\n",
        "\n",
        "  def _initialize_weights(self):\n",
        "        for m in self.modules():\n",
        "            if isinstance(m, nn.Conv2d) or isinstance(m, nn.Linear):\n",
        "                nn.init.xavier_uniform_(m.weight)\n",
        "                if m.bias is not None:\n",
        "                    nn.init.zeros_(m.bias)\n",
        "\n",
        "  # For training model on a and b and getting embedded vector for PKAN\n",
        "  def forward(self, x, predict=False):\n",
        "    x = self.cnn_pipeline(x)\n",
        "    x = torch.flatten(x, 1)\n",
        "    x = self.fc_pipeline(x)\n",
        "    if predict:\n",
        "        x = self.output_layer(x)\n",
        "    return x\n",
        "\n",
        "  def unscale_predict(self, x, train=True):\n",
        "    x = x.detach().cpu().numpy()\n",
        "    if train:\n",
        "      scaler_a = self.train_dataset.scaler_a\n",
        "      scaler_b = self.train_dataset.scaler_b\n",
        "    else:\n",
        "      scaler_a = self.test_dataset.scaler_a\n",
        "      scaler_b = self.test_dataset.scaler_b\n",
        "\n",
        "    x[:, 0] = scaler_a.inverse_transform(x[:, 0].reshape(-1, 1)).reshape(-1)\n",
        "    x[:, 1] = scaler_b.inverse_transform(x[:, 1].reshape(-1, 1)).reshape(-1)\n",
        "    return x\n",
        "\n",
        "  def weighted_loss(self, outputs, labels):\n",
        "    criterion = nn.SmoothL1Loss()\n",
        "    loss = criterion(outputs, labels)\n",
        "    weight = torch.tensor([1.0, 80], device=device)  # Adjust if needed\n",
        "    return (loss * weight).mean()\n",
        "\n",
        "  def train_model(self, epochs, learning_rate, step_size, gamma):\n",
        "    optimizer = optim.Adam(self.parameters(), lr=learning_rate)\n",
        "    scheduler = optim.lr_scheduler.StepLR(optimizer, step_size=step_size, gamma=gamma)\n",
        "\n",
        "    self.to(device)  # Move the model to the device (GPU if available)\n",
        "\n",
        "    loss_history = []\n",
        "\n",
        "    for epoch in range(epochs):\n",
        "        running_loss = 0.0\n",
        "        for i, data in enumerate(self.train_loader, 0):\n",
        "            inputs, labels = data  # Get the inputs and labels from the data loader\n",
        "            inputs, labels = inputs.to(device), labels.to(device)  # Move data to device\n",
        "\n",
        "            optimizer.zero_grad()  # Zero the parameter gradients\n",
        "            outputs = self(inputs, predict=True)  # Forward pass\n",
        "            loss = self.weighted_loss(outputs, labels)  # Calculate the loss\n",
        "            loss_history.append(loss.item())\n",
        "            loss.backward()  # Backpropagation\n",
        "            optimizer.step()  # Update the model's parameters\n",
        "\n",
        "            running_loss += loss.item()  # Accumulate the loss for the epoch\n",
        "\n",
        "        scheduler.step()\n",
        "\n",
        "        # Print the average loss for the epoch\n",
        "        print(f\"Epoch [{epoch + 1}/{epochs}] Loss: {running_loss / len(self.train_loader):.4f} | LR: {scheduler.get_last_lr()[0]:.6f}\")\n",
        "\n",
        "    plt.figure()\n",
        "    plt.plot(loss_history)\n",
        "    plt.xlabel('Iterations')\n",
        "    plt.ylabel('Loss')\n",
        "    plt.title('Training Loss')\n",
        "    plt.show()\n",
        "\n",
        "    print(\"Training finished!\")\n",
        "\n",
        "    self.to(device)\n",
        "\n",
        "  def validate(self):\n",
        "      total_loss = 0.0\n",
        "      all_outputs = []\n",
        "      all_labels = []\n",
        "\n",
        "      with torch.no_grad():  # Disable gradient computation\n",
        "          for data in self.test_loader:\n",
        "              inputs, labels = data\n",
        "              inputs, labels = inputs.to(device), labels.to(device)\n",
        "\n",
        "              outputs = self(inputs, predict=True)\n",
        "              loss = self.weighted_loss(outputs, labels)\n",
        "              total_loss += loss.item()\n",
        "\n",
        "              all_outputs.append(outputs.cpu().numpy())\n",
        "              all_labels.append(labels.cpu().numpy())\n",
        "\n",
        "      avg_loss = total_loss / len(self.test_loader)\n",
        "      print(f\"Validation Loss: {avg_loss:.4f}\")\n",
        "\n",
        "      # Convert lists to numpy arrays for better analysis\n",
        "      all_outputs = np.concatenate(all_outputs, axis=0)\n",
        "      all_labels = np.concatenate(all_labels, axis=0)\n",
        "\n",
        "      # Unscale predictions\n",
        "      unscaled_outputs = self.unscale_predict(torch.tensor(all_outputs), train=False)\n",
        "      unscaled_labels = self.unscale_predict(torch.tensor(all_labels), train=False)\n",
        "\n",
        "      # Compute evaluation metrics\n",
        "      mae = np.mean(np.abs(unscaled_outputs - unscaled_labels), axis=0)\n",
        "      mse = np.mean((unscaled_outputs - unscaled_labels) ** 2, axis=0)\n",
        "\n",
        "      print(f\"Mean Absolute Error (MAE): a={mae[0]:.4f}, b={mae[1]:.4f}\")\n",
        "      print(f\"Mean Squared Error (MSE): a={mse[0]:.4f}, b={mse[1]:.4f}\")\n",
        "\n"
      ]
    },
    {
      "cell_type": "code",
      "execution_count": 12,
      "metadata": {
        "id": "gME4l7FFtizn"
      },
      "outputs": [],
      "source": [
        "train_dataset = EOSDataset(train_imgs, y_train, True)\n",
        "test_dataset = EOSDataset(test_imgs, y_test, True)"
      ]
    },
    {
      "cell_type": "code",
      "execution_count": 13,
      "metadata": {
        "colab": {
          "base_uri": "https://localhost:8080/"
        },
        "id": "AEO60xCvt0Zh",
        "outputId": "e9087ed6-6ecf-4619-d582-a2c046a5d53d"
      },
      "outputs": [
        {
          "name": "stdout",
          "output_type": "stream",
          "text": [
            "Epoch [1/100] Loss: 209.1842 | LR: 0.000100\n",
            "Epoch [2/100] Loss: 152.2990 | LR: 0.000100\n",
            "Epoch [3/100] Loss: 107.6276 | LR: 0.000100\n",
            "Epoch [4/100] Loss: 99.4442 | LR: 0.000100\n",
            "Epoch [5/100] Loss: 84.4047 | LR: 0.000100\n",
            "Epoch [6/100] Loss: 69.5814 | LR: 0.000100\n",
            "Epoch [7/100] Loss: 49.3068 | LR: 0.000100\n",
            "Epoch [8/100] Loss: 30.9552 | LR: 0.000100\n",
            "Epoch [9/100] Loss: 24.2376 | LR: 0.000100\n",
            "Epoch [10/100] Loss: 16.7981 | LR: 0.000090\n",
            "Epoch [11/100] Loss: 16.4456 | LR: 0.000090\n",
            "Epoch [12/100] Loss: 13.9017 | LR: 0.000090\n",
            "Epoch [13/100] Loss: 7.4557 | LR: 0.000090\n",
            "Epoch [14/100] Loss: 6.4782 | LR: 0.000090\n",
            "Epoch [15/100] Loss: 4.9888 | LR: 0.000090\n",
            "Epoch [16/100] Loss: 5.1938 | LR: 0.000090\n",
            "Epoch [17/100] Loss: 5.7301 | LR: 0.000090\n",
            "Epoch [18/100] Loss: 4.9263 | LR: 0.000090\n",
            "Epoch [19/100] Loss: 5.3028 | LR: 0.000090\n",
            "Epoch [20/100] Loss: 4.9834 | LR: 0.000081\n",
            "Epoch [21/100] Loss: 8.2430 | LR: 0.000081\n",
            "Epoch [22/100] Loss: 6.3060 | LR: 0.000081\n",
            "Epoch [23/100] Loss: 5.0853 | LR: 0.000081\n",
            "Epoch [24/100] Loss: 4.5247 | LR: 0.000081\n",
            "Epoch [25/100] Loss: 4.6518 | LR: 0.000081\n",
            "Epoch [26/100] Loss: 3.5489 | LR: 0.000081\n",
            "Epoch [27/100] Loss: 3.6431 | LR: 0.000081\n",
            "Epoch [28/100] Loss: 3.5771 | LR: 0.000081\n",
            "Epoch [29/100] Loss: 3.4107 | LR: 0.000081\n",
            "Epoch [30/100] Loss: 3.9934 | LR: 0.000073\n",
            "Epoch [31/100] Loss: 2.8331 | LR: 0.000073\n",
            "Epoch [32/100] Loss: 3.3124 | LR: 0.000073\n",
            "Epoch [33/100] Loss: 3.7109 | LR: 0.000073\n",
            "Epoch [34/100] Loss: 3.3897 | LR: 0.000073\n",
            "Epoch [35/100] Loss: 3.5553 | LR: 0.000073\n",
            "Epoch [36/100] Loss: 3.5014 | LR: 0.000073\n",
            "Epoch [37/100] Loss: 3.3841 | LR: 0.000073\n",
            "Epoch [38/100] Loss: 2.7810 | LR: 0.000073\n",
            "Epoch [39/100] Loss: 6.2757 | LR: 0.000073\n",
            "Epoch [40/100] Loss: 3.9640 | LR: 0.000066\n",
            "Epoch [41/100] Loss: 2.9559 | LR: 0.000066\n",
            "Epoch [42/100] Loss: 2.2429 | LR: 0.000066\n",
            "Epoch [43/100] Loss: 3.1013 | LR: 0.000066\n",
            "Epoch [44/100] Loss: 2.2016 | LR: 0.000066\n",
            "Epoch [45/100] Loss: 3.9206 | LR: 0.000066\n",
            "Epoch [46/100] Loss: 2.6437 | LR: 0.000066\n",
            "Epoch [47/100] Loss: 2.6493 | LR: 0.000066\n",
            "Epoch [48/100] Loss: 2.7885 | LR: 0.000066\n",
            "Epoch [49/100] Loss: 3.9095 | LR: 0.000066\n",
            "Epoch [50/100] Loss: 5.6208 | LR: 0.000059\n",
            "Epoch [51/100] Loss: 7.0558 | LR: 0.000059\n",
            "Epoch [52/100] Loss: 6.8739 | LR: 0.000059\n",
            "Epoch [53/100] Loss: 4.3907 | LR: 0.000059\n",
            "Epoch [54/100] Loss: 4.0577 | LR: 0.000059\n",
            "Epoch [55/100] Loss: 3.2678 | LR: 0.000059\n",
            "Epoch [56/100] Loss: 2.7291 | LR: 0.000059\n",
            "Epoch [57/100] Loss: 2.9961 | LR: 0.000059\n",
            "Epoch [58/100] Loss: 3.2764 | LR: 0.000059\n",
            "Epoch [59/100] Loss: 2.5441 | LR: 0.000059\n",
            "Epoch [60/100] Loss: 2.7822 | LR: 0.000053\n",
            "Epoch [61/100] Loss: 3.1144 | LR: 0.000053\n",
            "Epoch [62/100] Loss: 1.5262 | LR: 0.000053\n",
            "Epoch [63/100] Loss: 1.8009 | LR: 0.000053\n",
            "Epoch [64/100] Loss: 2.1601 | LR: 0.000053\n",
            "Epoch [65/100] Loss: 1.9408 | LR: 0.000053\n",
            "Epoch [66/100] Loss: 1.9281 | LR: 0.000053\n",
            "Epoch [67/100] Loss: 1.7467 | LR: 0.000053\n",
            "Epoch [68/100] Loss: 1.7225 | LR: 0.000053\n",
            "Epoch [69/100] Loss: 1.9394 | LR: 0.000053\n",
            "Epoch [70/100] Loss: 2.3476 | LR: 0.000048\n",
            "Epoch [71/100] Loss: 2.0190 | LR: 0.000048\n",
            "Epoch [72/100] Loss: 3.7392 | LR: 0.000048\n",
            "Epoch [73/100] Loss: 1.8533 | LR: 0.000048\n",
            "Epoch [74/100] Loss: 2.3222 | LR: 0.000048\n",
            "Epoch [75/100] Loss: 1.2667 | LR: 0.000048\n",
            "Epoch [76/100] Loss: 1.3255 | LR: 0.000048\n",
            "Epoch [77/100] Loss: 1.5440 | LR: 0.000048\n",
            "Epoch [78/100] Loss: 1.3942 | LR: 0.000048\n",
            "Epoch [79/100] Loss: 1.0548 | LR: 0.000048\n",
            "Epoch [80/100] Loss: 1.6507 | LR: 0.000043\n",
            "Epoch [81/100] Loss: 2.9808 | LR: 0.000043\n",
            "Epoch [82/100] Loss: 2.2958 | LR: 0.000043\n",
            "Epoch [83/100] Loss: 2.1589 | LR: 0.000043\n",
            "Epoch [84/100] Loss: 4.4382 | LR: 0.000043\n",
            "Epoch [85/100] Loss: 2.8283 | LR: 0.000043\n",
            "Epoch [86/100] Loss: 2.0612 | LR: 0.000043\n",
            "Epoch [87/100] Loss: 1.5042 | LR: 0.000043\n",
            "Epoch [88/100] Loss: 2.7962 | LR: 0.000043\n",
            "Epoch [89/100] Loss: 1.5456 | LR: 0.000043\n",
            "Epoch [90/100] Loss: 1.7397 | LR: 0.000039\n",
            "Epoch [91/100] Loss: 0.8769 | LR: 0.000039\n",
            "Epoch [92/100] Loss: 2.2525 | LR: 0.000039\n",
            "Epoch [93/100] Loss: 1.3864 | LR: 0.000039\n",
            "Epoch [94/100] Loss: 1.7221 | LR: 0.000039\n",
            "Epoch [95/100] Loss: 1.1756 | LR: 0.000039\n",
            "Epoch [96/100] Loss: 1.5488 | LR: 0.000039\n",
            "Epoch [97/100] Loss: 2.3195 | LR: 0.000039\n",
            "Epoch [98/100] Loss: 1.7285 | LR: 0.000039\n",
            "Epoch [99/100] Loss: 1.1345 | LR: 0.000039\n",
            "Epoch [100/100] Loss: 1.1011 | LR: 0.000035\n"
          ]
        },
        {
          "data": {
            "image/png": "[encoded data removed]",
            "text/plain": [
              "<Figure size 640x480 with 1 Axes>"
            ]
          },
          "metadata": {},
          "output_type": "display_data"
        },
        {
          "name": "stdout",
          "output_type": "stream",
          "text": [
            "Training finished!\n"
          ]
        }
      ],
      "source": [
        "cnn = CNN(train_dataset, test_dataset)\n",
        "cnn.train_model(epochs=100, learning_rate=0.0001, step_size=10, gamma=0.9)"
      ]
    },
    {
      "cell_type": "code",
      "execution_count": 14,
      "metadata": {},
      "outputs": [
        {
          "name": "stdout",
          "output_type": "stream",
          "text": [
            "Validation Loss: 10.6962\n",
            "Mean Absolute Error (MAE): a=8.0623, b=0.0409\n",
            "Mean Squared Error (MSE): a=135.3195, b=0.0077\n"
          ]
        }
      ],
      "source": [
        "cnn.validate()"
      ]
    },
    {
      "cell_type": "code",
      "execution_count": 15,
      "metadata": {
        "colab": {
          "base_uri": "https://localhost:8080/",
          "height": 891
        },
        "id": "7faaC4Dc7xt7",
        "outputId": "8f877a8b-143b-459c-db43-35f203026935"
      },
      "outputs": [
        {
          "name": "stdout",
          "output_type": "stream",
          "text": [
            "[[4.1919994 0.05156  ]]\n",
            "[[0.14622308 0.03478023]]\n"
          ]
        }
      ],
      "source": [
        "img, label = train_dataset.__getitem__(50)\n",
        "\n",
        "print(cnn.unscale_predict(torch.tensor(label.reshape(-1,2)).to(device)))\n",
        "encoding = cnn.unscale_predict(cnn(img.to(device).unsqueeze(0), predict=True))\n",
        "\n",
        "print(encoding)"
      ]
    },
    {
      "cell_type": "code",
      "execution_count": 16,
      "metadata": {},
      "outputs": [],
      "source": [
        "class KANLayer(nn.Module):\n",
        "\n",
        "    def __init__(self, input_dim, output_dim, num_kernels=10):\n",
        "\n",
        "        super(KANLayer, self).__init__()\n",
        "\n",
        "        self.input_dim = input_dim\n",
        "        self.output_dim = output_dim\n",
        "        self.num_kernels = num_kernels\n",
        "\n",
        "        self.weights = nn.Parameter(torch.randn(self.output_dim, self.num_kernels))\n",
        "        self.bias = nn.Parameter(torch.zeros(self.output_dim))\n",
        "\n",
        "        self.centers = nn.Parameter(torch.linspace(-1, 1, self.num_kernels))\n",
        "        self.widths = nn.Parameter(torch.ones(self.num_kernels) * 0.1)\n",
        "\n",
        "    def forward(self, x):\n",
        "\n",
        "        kernels = torch.exp(-((x.unsqueeze(-1) - self.centers) ** 2) / (2 * self.widths ** 2))\n",
        "        activation = torch.sum(torch.matmul(kernels, self.weights.T), dim=-1)  + self.bias\n",
        "\n",
        "        return activation"
      ]
    },
    {
      "cell_type": "code",
      "execution_count": 17,
      "metadata": {},
      "outputs": [],
      "source": [
        "class PKAN(nn.Module):\n",
        "\n",
        "    def __init__(self, encoder, kan_layer, feature_vec_size=64):\n",
        "        super(PKAN, self).__init__()\n",
        "\n",
        "        self.encoder = encoder\n",
        "\n",
        "        for param in self.encoder.parameters():\n",
        "            param.requires_grad = False\n",
        "\n",
        "        self.KAN_layer = kan_layer\n",
        "\n",
        "        self.fc_pipeline = nn.Sequential(\n",
        "            nn.Linear(feature_vec_size, 128),\n",
        "            nn.ReLU(),\n",
        "            nn.Linear(128, 64),\n",
        "            nn.ReLU(),\n",
        "            nn.Linear(64, 64),\n",
        "            self.KAN_layer,\n",
        "            nn.Linear(64, 32),\n",
        "            nn.ReLU(),\n",
        "            nn.Linear(32, 2)\n",
        "        )\n",
        "\n",
        "    def forward(self, x):\n",
        "        with torch.no_grad():\n",
        "            x = self.encoder(x, predict=False)\n",
        "        x = self.fc_pipeline(x)\n",
        "        return x"
      ]
    },
    {
      "cell_type": "code",
      "execution_count": 18,
      "metadata": {},
      "outputs": [],
      "source": [
        "def train_pkan(model, train_loader, epochs=20, learning_rate=1e-3, step_size=10, gamma=0.8):\n",
        "    \"\"\"Train the PKAN model with a frozen CNN encoder.\"\"\"\n",
        "    optimizer = optim.Adam(filter(lambda p: p.requires_grad, model.parameters()), lr=learning_rate)\n",
        "    scheduler = optim.lr_scheduler.StepLR(optimizer, step_size=step_size, gamma=gamma)\n",
        "    criterion = nn.SmoothL1Loss()  # Huber loss\n",
        "\n",
        "    model.to(device)  # Move model to GPU if available\n",
        "    loss_history = []\n",
        "\n",
        "    for epoch in range(epochs):\n",
        "        model.train()\n",
        "        running_loss = 0.0\n",
        "\n",
        "        for inputs, labels in train_loader:\n",
        "            inputs, labels = inputs.to(device), labels.to(device)\n",
        "\n",
        "            optimizer.zero_grad()\n",
        "\n",
        "            outputs = model(inputs)\n",
        "            loss = criterion(outputs, labels)\n",
        "\n",
        "            loss.backward()\n",
        "            optimizer.step()\n",
        "\n",
        "            running_loss += loss.item()\n",
        "            loss_history.append(loss.item())\n",
        "\n",
        "        scheduler.step()\n",
        "        print(f\"Epoch [{epoch+1}/{epochs}] Loss: {running_loss / len(train_loader):.4f} | LR: {scheduler.get_last_lr()[0]:.6f}\")\n",
        "\n",
        "    plt.figure()\n",
        "    plt.plot(loss_history)\n",
        "    plt.xlabel('Iterations')\n",
        "    plt.ylabel('Loss')\n",
        "    plt.title('PKAN Training Loss')\n",
        "    plt.show()\n",
        "\n",
        "    print(\"PKAN Training Complete!\")\n"
      ]
    },
    {
      "cell_type": "code",
      "execution_count": 19,
      "metadata": {},
      "outputs": [
        {
          "name": "stdout",
          "output_type": "stream",
          "text": [
            "Epoch [1/100] Loss: 0.5695 | LR: 0.001000\n",
            "Epoch [2/100] Loss: 0.2079 | LR: 0.001000\n",
            "Epoch [3/100] Loss: 0.0964 | LR: 0.001000\n",
            "Epoch [4/100] Loss: 0.0940 | LR: 0.001000\n",
            "Epoch [5/100] Loss: 0.0833 | LR: 0.001000\n",
            "Epoch [6/100] Loss: 0.0390 | LR: 0.001000\n",
            "Epoch [7/100] Loss: 0.0371 | LR: 0.001000\n",
            "Epoch [8/100] Loss: 0.0476 | LR: 0.001000\n",
            "Epoch [9/100] Loss: 0.0319 | LR: 0.001000\n",
            "Epoch [10/100] Loss: 0.0273 | LR: 0.000800\n",
            "Epoch [11/100] Loss: 0.0291 | LR: 0.000800\n",
            "Epoch [12/100] Loss: 0.0222 | LR: 0.000800\n",
            "Epoch [13/100] Loss: 0.0253 | LR: 0.000800\n",
            "Epoch [14/100] Loss: 0.0247 | LR: 0.000800\n",
            "Epoch [15/100] Loss: 0.0450 | LR: 0.000800\n",
            "Epoch [16/100] Loss: 0.0247 | LR: 0.000800\n",
            "Epoch [17/100] Loss: 0.0193 | LR: 0.000800\n",
            "Epoch [18/100] Loss: 0.0186 | LR: 0.000800\n",
            "Epoch [19/100] Loss: 0.0152 | LR: 0.000800\n",
            "Epoch [20/100] Loss: 0.0198 | LR: 0.000640\n",
            "Epoch [21/100] Loss: 0.0567 | LR: 0.000640\n",
            "Epoch [22/100] Loss: 0.0279 | LR: 0.000640\n",
            "Epoch [23/100] Loss: 0.0197 | LR: 0.000640\n",
            "Epoch [24/100] Loss: 0.0147 | LR: 0.000640\n",
            "Epoch [25/100] Loss: 0.0212 | LR: 0.000640\n",
            "Epoch [26/100] Loss: 0.0233 | LR: 0.000640\n",
            "Epoch [27/100] Loss: 0.0154 | LR: 0.000640\n",
            "Epoch [28/100] Loss: 0.0302 | LR: 0.000640\n",
            "Epoch [29/100] Loss: 0.0243 | LR: 0.000640\n",
            "Epoch [30/100] Loss: 0.0290 | LR: 0.000512\n",
            "Epoch [31/100] Loss: 0.0242 | LR: 0.000512\n",
            "Epoch [32/100] Loss: 0.0226 | LR: 0.000512\n",
            "Epoch [33/100] Loss: 0.0230 | LR: 0.000512\n",
            "Epoch [34/100] Loss: 0.0214 | LR: 0.000512\n",
            "Epoch [35/100] Loss: 0.0205 | LR: 0.000512\n",
            "Epoch [36/100] Loss: 0.0240 | LR: 0.000512\n",
            "Epoch [37/100] Loss: 0.0260 | LR: 0.000512\n",
            "Epoch [38/100] Loss: 0.0199 | LR: 0.000512\n",
            "Epoch [39/100] Loss: 0.0197 | LR: 0.000512\n",
            "Epoch [40/100] Loss: 0.0247 | LR: 0.000410\n",
            "Epoch [41/100] Loss: 0.0153 | LR: 0.000410\n",
            "Epoch [42/100] Loss: 0.0220 | LR: 0.000410\n",
            "Epoch [43/100] Loss: 0.0126 | LR: 0.000410\n",
            "Epoch [44/100] Loss: 0.0387 | LR: 0.000410\n",
            "Epoch [45/100] Loss: 0.0146 | LR: 0.000410\n",
            "Epoch [46/100] Loss: 0.0139 | LR: 0.000410\n",
            "Epoch [47/100] Loss: 0.0132 | LR: 0.000410\n",
            "Epoch [48/100] Loss: 0.0119 | LR: 0.000410\n",
            "Epoch [49/100] Loss: 0.0156 | LR: 0.000410\n",
            "Epoch [50/100] Loss: 0.0252 | LR: 0.000328\n",
            "Epoch [51/100] Loss: 0.0145 | LR: 0.000328\n",
            "Epoch [52/100] Loss: 0.0122 | LR: 0.000328\n",
            "Epoch [53/100] Loss: 0.0151 | LR: 0.000328\n",
            "Epoch [54/100] Loss: 0.0131 | LR: 0.000328\n",
            "Epoch [55/100] Loss: 0.0135 | LR: 0.000328\n",
            "Epoch [56/100] Loss: 0.0187 | LR: 0.000328\n",
            "Epoch [57/100] Loss: 0.0133 | LR: 0.000328\n",
            "Epoch [58/100] Loss: 0.0129 | LR: 0.000328\n",
            "Epoch [59/100] Loss: 0.0186 | LR: 0.000328\n",
            "Epoch [60/100] Loss: 0.0134 | LR: 0.000262\n",
            "Epoch [61/100] Loss: 0.0419 | LR: 0.000262\n",
            "Epoch [62/100] Loss: 0.0222 | LR: 0.000262\n",
            "Epoch [63/100] Loss: 0.0113 | LR: 0.000262\n",
            "Epoch [64/100] Loss: 0.0131 | LR: 0.000262\n",
            "Epoch [65/100] Loss: 0.0228 | LR: 0.000262\n",
            "Epoch [66/100] Loss: 0.0123 | LR: 0.000262\n",
            "Epoch [67/100] Loss: 0.0201 | LR: 0.000262\n",
            "Epoch [68/100] Loss: 0.0188 | LR: 0.000262\n",
            "Epoch [69/100] Loss: 0.0125 | LR: 0.000262\n",
            "Epoch [70/100] Loss: 0.0176 | LR: 0.000210\n",
            "Epoch [71/100] Loss: 0.0125 | LR: 0.000210\n",
            "Epoch [72/100] Loss: 0.0108 | LR: 0.000210\n",
            "Epoch [73/100] Loss: 0.0155 | LR: 0.000210\n",
            "Epoch [74/100] Loss: 0.0121 | LR: 0.000210\n",
            "Epoch [75/100] Loss: 0.0125 | LR: 0.000210\n",
            "Epoch [76/100] Loss: 0.0104 | LR: 0.000210\n",
            "Epoch [77/100] Loss: 0.0108 | LR: 0.000210\n",
            "Epoch [78/100] Loss: 0.0220 | LR: 0.000210\n",
            "Epoch [79/100] Loss: 0.0115 | LR: 0.000210\n",
            "Epoch [80/100] Loss: 0.0169 | LR: 0.000168\n",
            "Epoch [81/100] Loss: 0.0170 | LR: 0.000168\n",
            "Epoch [82/100] Loss: 0.0166 | LR: 0.000168\n",
            "Epoch [83/100] Loss: 0.0117 | LR: 0.000168\n",
            "Epoch [84/100] Loss: 0.0103 | LR: 0.000168\n",
            "Epoch [85/100] Loss: 0.0105 | LR: 0.000168\n",
            "Epoch [86/100] Loss: 0.0187 | LR: 0.000168\n",
            "Epoch [87/100] Loss: 0.0090 | LR: 0.000168\n",
            "Epoch [88/100] Loss: 0.0136 | LR: 0.000168\n",
            "Epoch [89/100] Loss: 0.0172 | LR: 0.000168\n",
            "Epoch [90/100] Loss: 0.0134 | LR: 0.000134\n",
            "Epoch [91/100] Loss: 0.0116 | LR: 0.000134\n",
            "Epoch [92/100] Loss: 0.0109 | LR: 0.000134\n",
            "Epoch [93/100] Loss: 0.0104 | LR: 0.000134\n",
            "Epoch [94/100] Loss: 0.0131 | LR: 0.000134\n",
            "Epoch [95/100] Loss: 0.0081 | LR: 0.000134\n",
            "Epoch [96/100] Loss: 0.0121 | LR: 0.000134\n",
            "Epoch [97/100] Loss: 0.0140 | LR: 0.000134\n",
            "Epoch [98/100] Loss: 0.0131 | LR: 0.000134\n",
            "Epoch [99/100] Loss: 0.0092 | LR: 0.000134\n",
            "Epoch [100/100] Loss: 0.0083 | LR: 0.000107\n"
          ]
        },
        {
          "data": {
            "image/png": "[encoded data removed]",
            "text/plain": [
              "<Figure size 640x480 with 1 Axes>"
            ]
          },
          "metadata": {},
          "output_type": "display_data"
        },
        {
          "name": "stdout",
          "output_type": "stream",
          "text": [
            "PKAN Training Complete!\n"
          ]
        }
      ],
      "source": [
        "kan_layer = KANLayer(64, 64)\n",
        "\n",
        "pkan = PKAN(cnn, kan_layer)\n",
        "\n",
        "train_loader = DataLoader(train_dataset, batch_size=32, shuffle=True)\n",
        "\n",
        "train_pkan(pkan, train_loader, epochs=100)"
      ]
    },
    {
      "cell_type": "code",
      "execution_count": 20,
      "metadata": {},
      "outputs": [],
      "source": [
        "def validate_pkan(model, device):\n",
        "    model.eval()  # Set model to evaluation mode\n",
        "    total_loss = 0.0\n",
        "    all_outputs = []\n",
        "    all_labels = []\n",
        "\n",
        "    with torch.no_grad():  # Disable gradient computation\n",
        "        for data in model.encoder.test_loader:\n",
        "            inputs, labels = data\n",
        "            inputs, labels = inputs.to(device), labels.to(device)\n",
        "\n",
        "            outputs = model(inputs)  # Forward pass through PKAN\n",
        "            loss = model.encoder.weighted_loss(outputs, labels)  # Use CNN's loss function\n",
        "            total_loss += loss.item()\n",
        "\n",
        "            all_outputs.append(outputs.cpu().numpy())\n",
        "            all_labels.append(labels.cpu().numpy())\n",
        "\n",
        "    avg_loss = total_loss / len(model.encoder.test_loader)\n",
        "    print(f\"Validation Loss: {avg_loss:.4f}\")\n",
        "\n",
        "    # Convert lists to numpy arrays for further evaluation\n",
        "    all_outputs = np.concatenate(all_outputs, axis=0)\n",
        "    all_labels = np.concatenate(all_labels, axis=0)\n",
        "\n",
        "    # Unscale predictions and labels\n",
        "    unscaled_outputs = model.encoder.unscale_predict(torch.tensor(all_outputs), train=False)\n",
        "    unscaled_labels = model.encoder.unscale_predict(torch.tensor(all_labels), train=False)\n",
        "\n",
        "    # Compute evaluation metrics\n",
        "    mae = np.mean(np.abs(unscaled_outputs - unscaled_labels), axis=0)\n",
        "    mse = np.mean((unscaled_outputs - unscaled_labels) ** 2, axis=0)\n",
        "\n",
        "    print(f\"Mean Absolute Error (MAE): a={mae[0]:.4f}, b={mae[1]:.4f}\")\n",
        "    print(f\"Mean Squared Error (MSE): a={mse[0]:.4f}, b={mse[1]:.4f}\")\n",
        "\n",
        "    return avg_loss, mae, mse\n"
      ]
    },
    {
      "cell_type": "code",
      "execution_count": 21,
      "metadata": {},
      "outputs": [
        {
          "name": "stdout",
          "output_type": "stream",
          "text": [
            "Validation Loss: 10.1617\n",
            "Mean Absolute Error (MAE): a=7.7393, b=0.0389\n",
            "Mean Squared Error (MSE): a=123.6207, b=0.0078\n"
          ]
        },
        {
          "data": {
            "text/plain": [
              "(10.161663055419922,\n",
              " array([7.7393293 , 0.03889797], dtype=float32),\n",
              " array([1.23620735e+02, 7.78423203e-03], dtype=float32))"
            ]
          },
          "execution_count": 21,
          "metadata": {},
          "output_type": "execute_result"
        }
      ],
      "source": [
        "validate_pkan(pkan, device)"
      ]
    }
  ],
  "metadata": {
    "accelerator": "GPU",
    "colab": {
      "gpuType": "T4",
      "provenance": []
    },
    "kernelspec": {
      "display_name": "eos",
      "language": "python",
      "name": "python3"
    },
    "language_info": {
      "codemirror_mode": {
        "name": "ipython",
        "version": 3
      },
      "file_extension": ".py",
      "mimetype": "text/x-python",
      "name": "python",
      "nbconvert_exporter": "python",
      "pygments_lexer": "ipython3",
      "version": "3.12.9"
    }
  },
  "nbformat": 4,
  "nbformat_minor": 0
}
